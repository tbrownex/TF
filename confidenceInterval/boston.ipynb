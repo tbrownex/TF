{
 "cells": [
  {
   "cell_type": "markdown",
   "metadata": {},
   "source": [
    "<h1>TF Mutiple Hidden Layers: Regression on Boston Data</h1>\n",
    "<br />\n",
    "This is adapted from Frossard's <a href=\"http://www.cs.toronto.edu/~frossard/post/tensorflow/\">tutorial</a>.\n",
    "<br />\n",
    "This approach is not batched, and the number of layers is fixed.\n",
    "<br />\n",
    "<br />\n",
    "D. Thiebaut\n",
    "<br />August 2016\n"
   ]
  },
  {
   "cell_type": "markdown",
   "metadata": {},
   "source": [
    "<h2>Import the Libraries and Tools</h2>"
   ]
  },
  {
   "cell_type": "code",
   "execution_count": 1,
   "metadata": {},
   "outputs": [],
   "source": [
    "import numpy as np\n",
    "import matplotlib\n",
    "import matplotlib.pyplot as plt\n",
    "import tensorflow as tf\n",
    "from tensorflow.contrib import learn\n",
    "from sklearn.model_selection import train_test_split\n",
    "from sklearn import preprocessing\n",
    "from sklearn import metrics\n",
    "from __future__ import print_function\n",
    "\n",
    "%matplotlib inline"
   ]
  },
  {
   "cell_type": "markdown",
   "metadata": {},
   "source": [
    "<h2>Import the Boston Data</h2>\n",
    "<br />\n",
    "We don't worry about adding column names to the data."
   ]
  },
  {
   "cell_type": "code",
   "execution_count": 2,
   "metadata": {},
   "outputs": [
    {
     "name": "stdout",
     "output_type": "stream",
     "text": [
      "WARNING:tensorflow:From <ipython-input-2-b34b2862c6ab>:1: load_dataset (from tensorflow.contrib.learn.python.learn.datasets) is deprecated and will be removed in a future version.\n",
      "Instructions for updating:\n",
      "Please use tf.data.\n",
      "WARNING:tensorflow:From /home/tbrownex/tensorflow/lib/python3.5/site-packages/tensorflow/contrib/learn/python/learn/datasets/__init__.py:80: load_boston (from tensorflow.contrib.learn.python.learn.datasets.base) is deprecated and will be removed in a future version.\n",
      "Instructions for updating:\n",
      "Use scikits.learn.datasets.\n",
      "WARNING:tensorflow:From /home/tbrownex/tensorflow/lib/python3.5/site-packages/tensorflow/contrib/learn/python/learn/datasets/base.py:129: load_csv_with_header (from tensorflow.contrib.learn.python.learn.datasets.base) is deprecated and will be removed in a future version.\n",
      "Instructions for updating:\n",
      "Use tf.data instead.\n",
      "Dimension of Boston test_x =  (102, 13)\n",
      "Dimension of test_y =  (102, 1)\n",
      "Dimension of Boston train_x =  (404, 13)\n",
      "Dimension of train_y =  (404, 1)\n"
     ]
    }
   ],
   "source": [
    "boston = learn.datasets.load_dataset('boston')\n",
    "#print( \"boston = \", boston )\n",
    "x, y = boston.data, boston.target\n",
    "y.resize( y.size, 1 ) #make y = [[x], [x], [x], ... ]\n",
    "\n",
    "train_x, test_x, train_y, test_y = train_test_split(x, y, test_size=0.2, random_state=42)\n",
    "\n",
    "print( \"Dimension of Boston test_x = \", test_x.shape )\n",
    "print( \"Dimension of test_y = \", test_y.shape )\n",
    "\n",
    "print( \"Dimension of Boston train_x = \", train_x.shape )\n",
    "print( \"Dimension of train_y = \", train_y.shape )\n"
   ]
  },
  {
   "cell_type": "markdown",
   "metadata": {},
   "source": [
    "We scale the inputs to have mean 0 and standard variation 1."
   ]
  },
  {
   "cell_type": "code",
   "execution_count": 3,
   "metadata": {},
   "outputs": [],
   "source": [
    "scaler = preprocessing.StandardScaler( )\n",
    "train_x = scaler.fit_transform( train_x )\n",
    "test_x  = scaler.fit_transform( test_x )"
   ]
  },
  {
   "cell_type": "markdown",
   "metadata": {},
   "source": [
    "We verify that we have 13 features..."
   ]
  },
  {
   "cell_type": "code",
   "execution_count": 4,
   "metadata": {},
   "outputs": [
    {
     "name": "stdout",
     "output_type": "stream",
     "text": [
      "number of features =  13\n"
     ]
    }
   ],
   "source": [
    "numFeatures =  train_x.shape[1] \n",
    "\n",
    "print( \"number of features = \", numFeatures )"
   ]
  },
  {
   "cell_type": "markdown",
   "metadata": {},
   "source": [
    "<h2>Input & Output Place-Holders</h2>\n",
    "<br />\n",
    "Define 2 place holders to the graph, one for the inputs one for the outputs..."
   ]
  },
  {
   "cell_type": "code",
   "execution_count": 5,
   "metadata": {},
   "outputs": [],
   "source": [
    "with tf.name_scope(\"IO\"):\n",
    "    inputs = tf.placeholder(tf.float32, [None, numFeatures], name=\"X\")\n",
    "    outputs = tf.placeholder(tf.float32, [None, 1], name=\"Yhat\")"
   ]
  },
  {
   "cell_type": "markdown",
   "metadata": {},
   "source": [
    "<h2>Define the Coeffs for the Layers</h2>\n",
    "<br />\n",
    "For each layer the input vector will be multiplied by a matrix $h$ of dim $n$ x $m$, where $n$ is the dimension of the input vector and $m$ the dimention of the output vector.   Then a bias vector of dimension $m$ is added to the product."
   ]
  },
  {
   "cell_type": "code",
   "execution_count": 15,
   "metadata": {},
   "outputs": [],
   "source": [
    "with tf.name_scope(\"LAYER\"):\n",
    "    # network architecture\n",
    "    #Layers = [numFeatures, 52, 39, 26, 13, 1]\n",
    "    Layers = [numFeatures, 50, 50, 1]\n",
    "    \n",
    "    h1   = tf.Variable(tf.random_normal([Layers[0], Layers[1]], 0, 0.1, dtype=tf.float32), name=\"h1\")\n",
    "    h2   = tf.Variable(tf.random_normal([Layers[1], Layers[2]], 0, 0.1, dtype=tf.float32), name=\"h2\")\n",
    "    #h3   = tf.Variable(tf.random_normal([Layers[2], Layers[3]], 0, 0.1, dtype=tf.float32), name=\"h3\")\n",
    "    #h4   = tf.Variable(tf.random_normal([Layers[3], Layers[4]], 0, 0.1, dtype=tf.float32), name=\"h4\")\n",
    "    hout = tf.Variable(tf.random_normal([Layers[2], Layers[3]], 0, 0.1, dtype=tf.float32), name=\"hout\")\n",
    "\n",
    "    b1   = tf.Variable(tf.random_normal([Layers[1]], 0, 0.1, dtype=tf.float32 ), name=\"b1\" )\n",
    "    b2   = tf.Variable(tf.random_normal([Layers[2]], 0, 0.1, dtype=tf.float32 ), name=\"b2\" )\n",
    "    #b3   = tf.Variable(tf.random_normal([Layers[3]], 0, 0.1, dtype=tf.float32 ), name=\"b3\" )\n",
    "    #b4   = tf.Variable(tf.random_normal([Layers[4]], 0, 0.1, dtype=tf.float32 ), name=\"b4\" )\n",
    "    bout = tf.Variable(tf.random_normal([Layers[3]], 0, 0.1, dtype=tf.float32 ), name=\"bout\" )"
   ]
  },
  {
   "cell_type": "markdown",
   "metadata": {},
   "source": [
    "<h2>Define the Layer operations as a Python funtion</h2>"
   ]
  },
  {
   "cell_type": "code",
   "execution_count": 16,
   "metadata": {},
   "outputs": [],
   "source": [
    "def model( inputs, layers ):\n",
    "    #[h1, b1, h2, b2, h3, b3, hout, bout] = layers\n",
    "    [h1, b1, h2, b2, hout, bout] = layers\n",
    "    y1 = tf.add( tf.matmul(inputs, h1), b1 )\n",
    "    y1 = tf.nn.sigmoid( y1 )\n",
    "       \n",
    "    y2 = tf.add( tf.matmul(y1, h2), b2 )\n",
    "    y2 = tf.nn.sigmoid( y2 )\n",
    "\n",
    "    #y3 = tf.add( tf.matmul(y2, h3), b3 )\n",
    "    #y3 = tf.nn.sigmoid( y3 )\n",
    "\n",
    "    #y4 = tf.add( tf.matmul(y3, h4), b4 )\n",
    "    #y4 = tf.nn.sigmoid( y4 )\n",
    "\n",
    "    yret  = tf.matmul(y2, hout) + bout \n",
    "    return yret"
   ]
  },
  {
   "cell_type": "markdown",
   "metadata": {},
   "source": [
    "<h2>Define the operations that are performed</h2>\n",
    "<br />\n",
    "We define what happens to the inputs (x), when they are provided, and what we do with \n",
    "the outputs of the layers (compare them to the y values), and the type of minimization \n",
    "that must be done."
   ]
  },
  {
   "cell_type": "code",
   "execution_count": 17,
   "metadata": {},
   "outputs": [],
   "source": [
    "with tf.name_scope(\"train\"):\n",
    "    learning_rate = 0.50\n",
    "    #yout = model( inputs, [h1, b1, h2, b2, h3, b3, hout, bout] )\n",
    "    yout = model( inputs, [h1, b1, h2, b2, hout, bout] )\n",
    "    \n",
    "    cost_op = tf.reduce_mean( tf.pow( yout - outputs, 2 ))\n",
    "    #cost_op = tf.reduce_sum( tf.pow( yout - outputs, 2 ))\n",
    "    #cost_op =  tf.reduce_mean(-tf.reduce_sum( yout * tf.log( outputs ) ) )\n",
    "\n",
    "    #train_op = tf.train.GradientDescentOptimizer(learning_rate).minimize(cost_op)\n",
    "    #train_op = tf.train.AdamOptimizer( learning_rate=learning_rate ).minimize( cost_op )\n",
    "    train_op = tf.train.AdagradOptimizer( learning_rate=learning_rate ).minimize( cost_op )"
   ]
  },
  {
   "cell_type": "markdown",
   "metadata": {},
   "source": [
    "<h2>Train the Model</h2>\n",
    "<br />\n",
    "We are now ready to go through many sessions, and in each one train the model.  Here we train on the whole x-train and y-train data, rather than batching into smaller groups."
   ]
  },
  {
   "cell_type": "code",
   "execution_count": 18,
   "metadata": {},
   "outputs": [
    {
     "name": "stdout",
     "output_type": "stream",
     "text": [
      "Beginning Training\n",
      "Epoch: 0 - Error: 131.6760\n",
      "Epoch: 1000 - Error: 1.5790\n",
      "Epoch: 2000 - Error: 0.7906\n",
      "Epoch: 3000 - Error: 0.4972\n",
      "Epoch: 4000 - Error: 0.2692\n",
      "Epoch: 5000 - Error: 0.1619\n",
      "Epoch: 6000 - Error: 0.1109\n",
      "Epoch: 7000 - Error: 0.0769\n",
      "Epoch: 8000 - Error: 0.0557\n",
      "Epoch: 9000 - Error: 0.0419\n",
      "Epoch: 10000 - Error: 0.0466\n",
      "Epoch: 11000 - Error: 0.0305\n",
      "Epoch: 12000 - Error: 0.0267\n",
      "Epoch: 13000 - Error: 0.0227\n",
      "Epoch: 14000 - Error: 0.0178\n",
      "Epoch: 15000 - Error: 0.0140\n",
      "Epoch: 16000 - Error: 0.0117\n",
      "Epoch: 17000 - Error: 0.0098\n",
      "Epoch: 18000 - Error: 0.0083\n",
      "Epoch: 19000 - Error: 0.0072\n",
      "Epoch: 20000 - Error: 0.0063\n",
      "Epoch: 21000 - Error: 0.0055\n",
      "Epoch: 22000 - Error: 0.0050\n",
      "Epoch: 23000 - Error: 0.0045\n",
      "Epoch: 24000 - Error: 0.0041\n",
      "Epoch: 25000 - Error: 0.0037\n",
      "Epoch: 26000 - Error: 0.0035\n",
      "Epoch: 27000 - Error: 0.0032\n",
      "Epoch: 28000 - Error: 0.0030\n",
      "Epoch: 29000 - Error: 0.0028\n",
      "Epoch: 30000 - Error: 0.0027\n",
      "Epoch: 31000 - Error: 0.0025\n",
      "Epoch: 32000 - Error: 0.0024\n",
      "Epoch: 33000 - Error: 0.0023\n",
      "Epoch: 34000 - Error: 0.0022\n",
      "Epoch: 35000 - Error: 0.0021\n",
      "Epoch: 36000 - Error: 0.0020\n",
      "Epoch: 37000 - Error: 0.0019\n",
      "Epoch: 38000 - Error: 0.0018\n",
      "Epoch: 39000 - Error: 0.0017\n",
      "Epoch: 40000 - Error: 0.0017\n",
      "Epoch: 41000 - Error: 0.0016\n",
      "Epoch: 42000 - Error: 0.0016\n",
      "Epoch: 43000 - Error: 0.0015\n",
      "Epoch: 44000 - Error: 0.0015\n",
      "Epoch: 45000 - Error: 0.0014\n",
      "Epoch: 46000 - Error: 0.0014\n",
      "Epoch: 47000 - Error: 0.0014\n",
      "Epoch: 48000 - Error: 0.0013\n",
      "Epoch: 49000 - Error: 0.0013\n",
      "Epoch: 50000 - Error: 0.0013\n",
      "Epoch: 51000 - Error: 0.0012\n",
      "STOP!\n",
      "Test Cost = 16.750957\n",
      "\n",
      "Prediction\n",
      "real\tpredicted\n"
     ]
    },
    {
     "ename": "TypeError",
     "evalue": "'zip' object is not subscriptable",
     "output_type": "error",
     "traceback": [
      "\u001b[0;31m---------------------------------------------------------------------------\u001b[0m",
      "\u001b[0;31mTypeError\u001b[0m                                 Traceback (most recent call last)",
      "\u001b[0;32m<ipython-input-18-d8b27449aa41>\u001b[0m in \u001b[0;36m<module>\u001b[0;34m()\u001b[0m\n\u001b[1;32m     50\u001b[0m \u001b[0;34m\u001b[0m\u001b[0m\n\u001b[1;32m     51\u001b[0m     \u001b[0mprint\u001b[0m\u001b[0;34m(\u001b[0m \u001b[0;34m\"\\nPrediction\\nreal\\tpredicted\"\u001b[0m \u001b[0;34m)\u001b[0m\u001b[0;34m\u001b[0m\u001b[0m\n\u001b[0;32m---> 52\u001b[0;31m     \u001b[0;32mfor\u001b[0m \u001b[0;34m(\u001b[0m\u001b[0my\u001b[0m\u001b[0;34m,\u001b[0m \u001b[0myHat\u001b[0m \u001b[0;34m)\u001b[0m \u001b[0;32min\u001b[0m \u001b[0mzip\u001b[0m\u001b[0;34m(\u001b[0m \u001b[0mtest_y\u001b[0m\u001b[0;34m,\u001b[0m \u001b[0mpred_y\u001b[0m \u001b[0;34m)\u001b[0m\u001b[0;34m[\u001b[0m\u001b[0;36m0\u001b[0m\u001b[0;34m:\u001b[0m\u001b[0;36m10\u001b[0m\u001b[0;34m]\u001b[0m\u001b[0;34m:\u001b[0m\u001b[0;34m\u001b[0m\u001b[0m\n\u001b[0m\u001b[1;32m     53\u001b[0m         \u001b[0mprint\u001b[0m\u001b[0;34m(\u001b[0m \u001b[0;34m\"%1.1f\\t%1.1f\"\u001b[0m \u001b[0;34m%\u001b[0m \u001b[0;34m(\u001b[0m\u001b[0my\u001b[0m\u001b[0;34m,\u001b[0m \u001b[0myHat\u001b[0m \u001b[0;34m)\u001b[0m \u001b[0;34m)\u001b[0m\u001b[0;34m\u001b[0m\u001b[0m\n\u001b[1;32m     54\u001b[0m \u001b[0;34m\u001b[0m\u001b[0m\n",
      "\u001b[0;31mTypeError\u001b[0m: 'zip' object is not subscriptable"
     ]
    }
   ],
   "source": [
    "# define variables/constants that control the training\n",
    "epoch = 0\n",
    "last_cost = 0\n",
    "max_epochs = 50000\n",
    "tolerance = 1e-6\n",
    "\n",
    "print( \"Beginning Training\" )\n",
    "\n",
    "sess = tf.Session() # Create TensorFlow session\n",
    "with sess.as_default():\n",
    "    \n",
    "    # initialize the variables\n",
    "    init = tf.initialize_all_variables()\n",
    "    sess.run(init)\n",
    "    \n",
    "    # start training until we stop, either because we've reached the max\n",
    "    # number of epochs, or successive errors are close enough to each other\n",
    "    # (less than tolerance)\n",
    "    \n",
    "    costs = []\n",
    "    epochs= []\n",
    "    while True:\n",
    "        # Do the training\n",
    "        sess.run( train_op, feed_dict={inputs: train_x, outputs: train_y} )\n",
    "            \n",
    "        # Update the user every 1000 epochs\n",
    "        if epoch % 1000==0:\n",
    "            cost = sess.run(cost_op, feed_dict={inputs: train_x, outputs: train_y})\n",
    "            costs.append( cost )\n",
    "            epochs.append( epoch )\n",
    "            \n",
    "            print( \"Epoch: %d - Error: %.4f\" %(epoch, cost) )\n",
    "            \n",
    "            # time to stop?\n",
    "            if epoch > max_epochs :\n",
    "                # or abs(last_cost - cost) < tolerance:\n",
    "                print( \"STOP!\" )\n",
    "                break\n",
    "            last_cost = cost\n",
    "            \n",
    "        epoch += 1\n",
    "    \n",
    "    # we're done...\n",
    "    # print some statistics...\n",
    "    \n",
    "    print( \"Test Cost =\", sess.run(cost_op, feed_dict={inputs: test_x, outputs: test_y}) )\n",
    "\n",
    "    # compute the predicted output for test_x\n",
    "    pred_y = sess.run( yout, feed_dict={inputs: test_x, outputs: test_y} )\n",
    "    \n",
    "    print( \"\\nPrediction\\nreal\\tpredicted\" )\n",
    "    for (y, yHat ) in zip( test_y, pred_y )[0:10]:\n",
    "        print( \"%1.1f\\t%1.1f\" % (y, yHat ) )\n",
    "    "
   ]
  },
  {
   "cell_type": "markdown",
   "metadata": {},
   "source": [
    "<h2>R2 score</h2>\n",
    "<br />"
   ]
  },
  {
   "cell_type": "code",
   "execution_count": 19,
   "metadata": {},
   "outputs": [
    {
     "name": "stdout",
     "output_type": "stream",
     "text": [
      "mean squared error =  16.750956343949266\n",
      "r2 score (coef determination) =  0.7715792691708243\n"
     ]
    }
   ],
   "source": [
    "r2 =  metrics.r2_score(test_y, pred_y) \n",
    "print( \"mean squared error = \", metrics.mean_squared_error(test_y, pred_y))\n",
    "print( \"r2 score (coef determination) = \", metrics.r2_score(test_y, pred_y))"
   ]
  },
  {
   "cell_type": "markdown",
   "metadata": {},
   "source": [
    "<h2>Plot Prediction vs. Real Housing Price</h2>"
   ]
  },
  {
   "cell_type": "code",
   "execution_count": 20,
   "metadata": {},
   "outputs": [
    {
     "data": {
      "image/png": "[encoded data removed]",
      "text/plain": [
       "<Figure size 432x288 with 1 Axes>"
      ]
     },
     "metadata": {},
     "output_type": "display_data"
    },
    {
     "data": {
      "image/png": "[encoded data removed]",
      "text/plain": [
       "<Figure size 432x288 with 1 Axes>"
      ]
     },
     "metadata": {},
     "output_type": "display_data"
    }
   ],
   "source": [
    "    \n",
    "    fig = plt.figure()\n",
    "    plt.scatter( test_y, pred_y )\n",
    "    plt.text(5, 50, r'r2 = %1.4f' % r2)\n",
    "    plt.xlabel( \"Test y\" )\n",
    "    plt.ylabel( \"predicted y\" )\n",
    "    plt.title( \"Prediction vs. Actual Y\" )\n",
    "    #plt.save( \"images/sigmoid_adagrad_52_39_26_13_1.png\")\n",
    "    plt.show()\n",
    "    fig.savefig('PredVsRealBoston.png', bbox_inches='tight')\n",
    "    \n",
    "    fig = plt.figure()\n",
    "    plt.scatter( test_y, test_y - pred_y )\n",
    "    plt.axhline(0, color='black')\n",
    "    plt.xlabel( \"Test y\" )\n",
    "    plt.ylabel( \"Test y - Predicted Y\" )\n",
    "    plt.title( \"Residuals\" )\n",
    "    plt.show()\n",
    "    fig.savefig('ResidualsBoston.png', bbox_inches='tight')\n",
    "    "
   ]
  },
  {
   "cell_type": "markdown",
   "metadata": {},
   "source": [
    "<h2>Plot Cost vs Epochs</h2>"
   ]
  },
  {
   "cell_type": "code",
   "execution_count": 21,
   "metadata": {
    "scrolled": false
   },
   "outputs": [
    {
     "data": {
      "image/png": "[encoded data removed]",
      "text/plain": [
       "<Figure size 432x288 with 1 Axes>"
      ]
     },
     "metadata": {},
     "output_type": "display_data"
    }
   ],
   "source": [
    "    fig = plt.figure()\n",
    "    plt.semilogy( epochs, costs )\n",
    "    plt.xlabel( \"Epochs\" )\n",
    "    plt.ylabel( \"Cost\" )\n",
    "    plt.title( \"Cost vs. Epochs\")\n",
    "    plt.show()\n",
    "    fig.savefig('CostVsEpochs.png', bbox_inches='tight')"
   ]
  },
  {
   "cell_type": "code",
   "execution_count": null,
   "metadata": {
    "collapsed": true
   },
   "outputs": [],
   "source": []
  }
 ],
 "metadata": {
  "kernelspec": {
   "display_name": "Python 3",
   "language": "python",
   "name": "python3"
  },
  "language_info": {
   "codemirror_mode": {
    "name": "ipython",
    "version": 3
   },
   "file_extension": ".py",
   "mimetype": "text/x-python",
   "name": "python",
   "nbconvert_exporter": "python",
   "pygments_lexer": "ipython3",
   "version": "3.5.2"
  }
 },
 "nbformat": 4,
 "nbformat_minor": 1
}
