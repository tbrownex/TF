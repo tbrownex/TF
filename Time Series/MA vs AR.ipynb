{
 "cells": [
  {
   "cell_type": "markdown",
   "metadata": {},
   "source": [
    "#### Two different methods of modeling a Time Series\n",
    "#### Plus the Dickey Fuller test for stationarity"
   ]
  },
  {
   "cell_type": "code",
   "execution_count": 160,
   "metadata": {},
   "outputs": [],
   "source": [
    "import numpy as np\n",
    "import matplotlib.pyplot as plt\n",
    "from statsmodels.tsa.stattools import adfuller"
   ]
  },
  {
   "cell_type": "code",
   "execution_count": 161,
   "metadata": {
    "collapsed": true
   },
   "outputs": [],
   "source": [
    "def checkADF(data):\n",
    "    result = adfuller(data)\n",
    "    print('ADF Statistic: %f' % result[0])\n",
    "    print('p-value: %f' % result[1])\n",
    "    for key, value in result[4].items():\n",
    "        print('\\t%s: %.3f' % (key, value))"
   ]
  },
  {
   "cell_type": "code",
   "execution_count": 162,
   "metadata": {
    "collapsed": true
   },
   "outputs": [],
   "source": [
    "size=300\n",
    "errors = np.random.normal(size=size)\n",
    "init = 1.0\n",
    "Beta = .7\n",
    "Theta = 1.0"
   ]
  },
  {
   "cell_type": "code",
   "execution_count": 163,
   "metadata": {},
   "outputs": [
    {
     "name": "stdout",
     "output_type": "stream",
     "text": [
      "ADF Statistic: -6.725974\n",
      "p-value: 0.000000\n",
      "\t10%: -2.572\n",
      "\t5%: -2.871\n",
      "\t1%: -3.452\n"
     ]
    }
   ],
   "source": [
    "ARmodel = [init]\n",
    "for x in range(1,size):\n",
    "    tmp = ARmodel[x-1]*Beta+errors[x]\n",
    "    ARmodel.append(tmp)\n",
    "checkADF(ARmodel)"
   ]
  },
  {
   "cell_type": "code",
   "execution_count": 164,
   "metadata": {},
   "outputs": [
    {
     "name": "stdout",
     "output_type": "stream",
     "text": [
      "ADF Statistic: -3.543644\n",
      "p-value: 0.006934\n",
      "\t10%: -2.572\n",
      "\t5%: -2.872\n",
      "\t1%: -3.453\n"
     ]
    }
   ],
   "source": [
    "MAmodel = [init]\n",
    "for x in range(1,size):\n",
    "    tmp = MAmodel[x-1]*Beta+Theta*errors[x-1]+errors[x]\n",
    "    MAmodel.append(tmp)\n",
    "checkADF(MAmodel)"
   ]
  },
  {
   "cell_type": "code",
   "execution_count": 165,
   "metadata": {},
   "outputs": [
    {
     "name": "stdout",
     "output_type": "stream",
     "text": [
      "ADF Statistic: -7.977897\n",
      "p-value: 0.000000\n",
      "\t10%: -2.572\n",
      "\t5%: -2.872\n",
      "\t1%: -3.453\n"
     ]
    }
   ],
   "source": [
    "MAmodel = [init]\n",
    "for x in range(1,size):\n",
    "    tmp = MAmodel[x-1]*Beta+(-Theta)*errors[x-1]+errors[x]\n",
    "    MAmodel.append(tmp)\n",
    "checkADF(MAmodel)"
   ]
  },
  {
   "cell_type": "code",
   "execution_count": 166,
   "metadata": {},
   "outputs": [
    {
     "data": {
      "text/plain": [
       "'plt.plot(MAmodel)\\nplt.show()'"
      ]
     },
     "execution_count": 166,
     "metadata": {},
     "output_type": "execute_result"
    }
   ],
   "source": [
    "'''plt.plot(MAmodel)\n",
    "plt.show()'''"
   ]
  }
 ],
 "metadata": {
  "kernelspec": {
   "display_name": "Python 3",
   "language": "python",
   "name": "python3"
  },
  "language_info": {
   "codemirror_mode": {
    "name": "ipython",
    "version": 3
   },
   "file_extension": ".py",
   "mimetype": "text/x-python",
   "name": "python",
   "nbconvert_exporter": "python",
   "pygments_lexer": "ipython3",
   "version": "3.5.2"
  }
 },
 "nbformat": 4,
 "nbformat_minor": 2
}
