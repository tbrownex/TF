{
 "cells": [
  {
   "cell_type": "code",
   "execution_count": 33,
   "metadata": {
    "collapsed": true
   },
   "outputs": [],
   "source": [
    "import tensorflow as tf\n",
    "import shutil\n",
    "import tensorflow.contrib.learn as learn\n",
    "import tensorflow.contrib.layers as tflayers\n",
    "from tensorflow.contrib.learn.python.learn import learn_runner\n",
    "import tensorflow.contrib.metrics as metrics\n",
    "import tensorflow.contrib.rnn as rnn\n",
    "\n",
    "tf.logging.set_verbosity(tf.logging.INFO)\n",
    "\n",
    "TIMESERIES_COL = 'rawdata'\n",
    "N_OUTPUTS = 1  # in each sequence, 1-9 are features, and 10 is label\n",
    "SEQ_LEN = None\n",
    "DEFAULTS = None\n",
    "N_INPUTS = None"
   ]
  },
  {
   "cell_type": "code",
   "execution_count": null,
   "metadata": {
    "collapsed": true
   },
   "outputs": [],
   "source": [
    "def init(hparams):\n",
    "    global SEQ_LEN, DEFAULTS, N_INPUTS\n",
    "    SEQ_LEN =  hparams['sequence_length']\n",
    "    DEFAULTS = [[0.0] for x in xrange(0, SEQ_LEN)]\n",
    "    N_INPUTS = SEQ_LEN - N_OUTPUTS"
   ]
  },
  {
   "cell_type": "code",
   "execution_count": null,
   "metadata": {
    "collapsed": true
   },
   "outputs": [],
   "source": [
    "def read_dataset(filename, mode, batch_size):\n",
    "    def _input_fn():\n",
    "        input_file_names = tf.train.match_filenames_once(filename)\n",
    "        filename_queue = tf.train.string_input_producer(\n",
    "            input_file_names, num_epochs=None, shuffle=True)\n",
    "        \n",
    "        reader = tf.TextLineReader()\n",
    "        _, value = reader.read_up_to(filename_queue, num_records=batch_size)\n",
    "\n",
    "        value_column = tf.expand_dims(value, -1)\n",
    "        #print ('readcsv={}'.format(value_column))\n",
    "    \n",
    "        # all_data is a list of tensors\n",
    "        all_data = tf.decode_csv(value_column, record_defaults=DEFAULTS)  \n",
    "        inputs = all_data[:len(all_data)-N_OUTPUTS]  # first few values\n",
    "        label = all_data[len(all_data)-N_OUTPUTS : ] # last few values\n",
    "    \n",
    "        # from list of tensors to tensor with one more dimension\n",
    "        inputs = tf.concat(inputs, axis=1)\n",
    "        label = tf.concat(label, axis=1)\n",
    "        #print ('inputs={}'.format(inputs))\n",
    "    \n",
    "        return {TIMESERIES_COL: inputs}, label   # dict of features, label\n",
    "    return _input_fn\n"
   ]
  },
  {
   "cell_type": "code",
   "execution_count": null,
   "metadata": {
    "collapsed": true
   },
   "outputs": [],
   "source": [
    "# create the inference model\n",
    "def dnn_model(features, mode, params):\n",
    "    X = tf.reshape(features[TIMESERIES_COL], [-1, N_INPUTS]) # flattened\n",
    "    h1 = tf.layers.dense(X, 10, activation=tf.nn.relu)\n",
    "    h2 = tf.layers.dense(h1, 3, activation=tf.nn.relu)\n",
    "    predictions = tf.layers.dense(h2, 1, activation=None) # linear output: regression\n",
    "    return predictions"
   ]
  },
  {
   "cell_type": "code",
   "execution_count": null,
   "metadata": {
    "collapsed": true
   },
   "outputs": [],
   "source": [
    "def cnn_model(features, mode, params):\n",
    "    X = tf.reshape(features[TIMESERIES_COL], [-1, N_INPUTS, 1]) # as a 1D \"image\" with a grayscale channel ?x10x1\n",
    "    c1 = tf.layers.max_pooling1d(\n",
    "        tf.layers.conv1d(X, filters=N_INPUTS//2,\n",
    "                         kernel_size=3, strides=1, # ?x10x5\n",
    "                         padding='same', activation=tf.nn.relu),\n",
    "        pool_size=2, strides=2\n",
    "    ) # ?x5x5\n",
    "    c2 = tf.layers.max_pooling1d(\n",
    "        tf.layers.conv1d(c1, filters=N_INPUTS//2,\n",
    "                         kernel_size=3, strides=1,\n",
    "                         padding='same', activation=tf.nn.relu),\n",
    "        pool_size=2, strides=2\n",
    "    ) # ?x2x5\n",
    "    outlen = (N_INPUTS//4) * (N_INPUTS//2)\n",
    "    c2flat = tf.reshape(c2, [-1, outlen])\n",
    "    h1 = tf.layers.dense(c2flat, 3, activation=tf.nn.relu)\n",
    "    predictions = tf.layers.dense(h1, 1, activation=None) # linear output: regression\n",
    "    return predictions"
   ]
  },
  {
   "cell_type": "code",
   "execution_count": null,
   "metadata": {
    "collapsed": true
   },
   "outputs": [],
   "source": [
    "def lstm_model(features, mode, params):\n",
    "    LSTM_SIZE = N_INPUTS//3  # size of the internal state in each of the cells\n",
    "    # 1. dynamic_rnn needs 3D shape: [BATCH_SIZE, N_INPUTS, 1]\n",
    "    x = tf.reshape(features[TIMESERIES_COL], [-1, N_INPUTS, 1])\n",
    "    \n",
    "    # 2. configure the RNN\n",
    "    lstm_cell = rnn.BasicLSTMCell(LSTM_SIZE, forget_bias=1.0)\n",
    "    outputs, _ = tf.nn.dynamic_rnn(lstm_cell, x, dtype=tf.float32)\n",
    "    outputs = outputs[:, (N_INPUTS-1):, :]  # last cell only\n",
    "    \n",
    "    # 3. flatten lstm output and pass through a dense layer\n",
    "    lstm_flat = tf.reshape(outputs, [-1, lstm_cell.output_size])\n",
    "    h1 = tf.layers.dense(lstm_flat, N_INPUTS//2, activation=tf.nn.relu)\n",
    "    predictions = tf.layers.dense(h1, 1, activation=None) # (?, 1)\n",
    "    return predictions"
   ]
  },
  {
   "cell_type": "code",
   "execution_count": null,
   "metadata": {
    "collapsed": true
   },
   "outputs": [],
   "source": [
    "# 2-layer LSTM\n",
    "def lstm2_model(features, mode, params):\n",
    "    # dynamic_rnn needs 3D shape: [BATCH_SIZE, N_INPUTS, 1]\n",
    "    x = tf.reshape(features[TIMESERIES_COL], [-1, N_INPUTS, 1])\n",
    " \n",
    "    # 2. configure the RNN\n",
    "    lstm_cell1 = rnn.BasicLSTMCell(N_INPUTS*2, forget_bias=1.0)\n",
    "    lstm_cell2 = rnn.BasicLSTMCell(N_INPUTS//2, forget_bias=1.0)\n",
    "    lstm_cells = rnn.MultiRNNCell([lstm_cell1, lstm_cell2])\n",
    "    outputs, _ = tf.nn.dynamic_rnn(lstm_cells, x, dtype=tf.float32)\n",
    "    outputs = outputs[:, (N_INPUTS-1):, :] # last one only\n",
    "\n",
    "    # 3. flatten lstm output and pass through a dense layer\n",
    "    lstm_flat = tf.reshape(outputs, [-1, lstm_cells.output_size])\n",
    "    h1 = tf.layers.dense(lstm_flat, lstm_cells.output_size//2, activation=tf.nn.relu)\n",
    "    predictions = tf.layers.dense(h1, 1, activation=None) # (?, 1)\n",
    "    return predictions"
   ]
  },
  {
   "cell_type": "code",
   "execution_count": null,
   "metadata": {
    "collapsed": true
   },
   "outputs": [],
   "source": [
    "# create N-1 predictions\n",
    "def lstmN_model(features, mode, params):\n",
    "    # dynamic_rnn needs 3D shape: [BATCH_SIZE, N_INPUTS, 1]\n",
    "    x = tf.reshape(features[TIMESERIES_COL], [-1, N_INPUTS, 1])\n",
    " \n",
    "    # 2. configure the RNN\n",
    "    lstm_cell1 = rnn.BasicLSTMCell(N_INPUTS*2, forget_bias=1.0)\n",
    "    lstm_cell2 = rnn.BasicLSTMCell(N_INPUTS//2, forget_bias=1.0)\n",
    "    lstm_cells = rnn.MultiRNNCell([lstm_cell1, lstm_cell2])\n",
    "    outputs, _ = tf.nn.dynamic_rnn(lstm_cells, x, dtype=tf.float32)\n",
    "\n",
    "    # 3. make lstm output a 2D matrix and pass through a dense layer\n",
    "    # so that the dense layer is shared for all outputs\n",
    "    lstm_flat = tf.reshape(outputs, [-1, N_INPUTS, lstm_cells.output_size])\n",
    "    h1 = tf.layers.dense(lstm_flat, lstm_cells.output_size, activation=tf.nn.relu)\n",
    "    h2 = tf.layers.dense(h1, lstm_cells.output_size//2, activation=tf.nn.relu)\n",
    "    predictions = tf.layers.dense(h2, 1, activation=None) # (?, N_INPUTS, 1)\n",
    "    predictions = tf.reshape(predictions, [-1, N_INPUTS])\n",
    "    return predictions"
   ]
  },
  {
   "cell_type": "code",
   "execution_count": null,
   "metadata": {
    "collapsed": true
   },
   "outputs": [],
   "source": [
    "def serving_input_fn():\n",
    "    feature_placeholders = {\n",
    "        TIMESERIES_COL: tf.placeholder(tf.float32, [None, N_INPUTS])\n",
    "    }\n",
    "    features = {\n",
    "        key: tf.expand_dims(tensor, -1)\n",
    "        for key, tensor in feature_placeholders.items()\n",
    "    }\n",
    "    features[TIMESERIES_COL] = tf.squeeze(features[TIMESERIES_COL], axis=[2])\n",
    "    return tf.estimator.export.ServingInputReceiver(features, feature_placeholders)"
   ]
  }
 ],
 "metadata": {
  "kernelspec": {
   "display_name": "Python 3",
   "language": "python",
   "name": "python3"
  },
  "language_info": {
   "codemirror_mode": {
    "name": "ipython",
    "version": 3
   },
   "file_extension": ".py",
   "mimetype": "text/x-python",
   "name": "python",
   "nbconvert_exporter": "python",
   "pygments_lexer": "ipython3",
   "version": "3.5.2"
  }
 },
 "nbformat": 4,
 "nbformat_minor": 2
}
