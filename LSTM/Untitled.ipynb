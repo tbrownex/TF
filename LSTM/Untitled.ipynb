{
 "cells": [
  {
   "cell_type": "code",
   "execution_count": 1,
   "metadata": {},
   "outputs": [],
   "source": [
    "import pandas as pd\n",
    "import matplotlib.pyplot as plt"
   ]
  },
  {
   "cell_type": "code",
   "execution_count": 2,
   "metadata": {},
   "outputs": [],
   "source": [
    "def getData(config):\n",
    "    return pd.read_csv(config[\"dataLoc\"]+config[\"fileName\"])"
   ]
  },
  {
   "cell_type": "code",
   "execution_count": 3,
   "metadata": {},
   "outputs": [],
   "source": [
    "def getConfig():\n",
    "    config={}\n",
    "    config[\"dataLoc\"] = \"/home/tbrownex/data/Hackett/archive/OutFront/\"\n",
    "    config[\"fileName\"] = \"3_final.csv\"\n",
    "    config[\"batchSize\"] = 16\n",
    "    config[\"segmentLength\"] = 50\n",
    "    config[\"epochs\"] = 100\n",
    "    config[\"opt\"]  = \"adam\"\n",
    "    config[\"testPct\"] = 0.2\n",
    "    return config"
   ]
  },
  {
   "cell_type": "code",
   "execution_count": 4,
   "metadata": {},
   "outputs": [],
   "source": [
    "config = getConfig()\n",
    "df = getData(config)"
   ]
  },
  {
   "cell_type": "code",
   "execution_count": 5,
   "metadata": {},
   "outputs": [
    {
     "data": {
      "text/plain": [
       "(3532032, 9)"
      ]
     },
     "execution_count": 5,
     "metadata": {},
     "output_type": "execute_result"
    }
   ],
   "source": [
    "df.shape"
   ]
  },
  {
   "cell_type": "code",
   "execution_count": 6,
   "metadata": {},
   "outputs": [
    {
     "name": "stdout",
     "output_type": "stream",
     "text": [
      "<class 'pandas.core.frame.DataFrame'>\n",
      "RangeIndex: 3532032 entries, 0 to 3532031\n",
      "Data columns (total 9 columns):\n",
      "panel         object\n",
      "date          object\n",
      "hour          int64\n",
      "population    float64\n",
      "block         object\n",
      "dow           int64\n",
      "weekNum       int64\n",
      "month         int64\n",
      "holiday       int64\n",
      "dtypes: float64(1), int64(5), object(3)\n",
      "memory usage: 242.5+ MB\n"
     ]
    }
   ],
   "source": [
    "df.info()"
   ]
  },
  {
   "cell_type": "code",
   "execution_count": null,
   "metadata": {},
   "outputs": [],
   "source": []
  }
 ],
 "metadata": {
  "kernelspec": {
   "display_name": "Python 3",
   "language": "python",
   "name": "python3"
  },
  "language_info": {
   "codemirror_mode": {
    "name": "ipython",
    "version": 3
   },
   "file_extension": ".py",
   "mimetype": "text/x-python",
   "name": "python",
   "nbconvert_exporter": "python",
   "pygments_lexer": "ipython3",
   "version": "3.5.2"
  }
 },
 "nbformat": 4,
 "nbformat_minor": 2
}
