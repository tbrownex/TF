{
 "cells": [
  {
   "cell_type": "markdown",
   "metadata": {},
   "source": [
    "#### This is using Keras\n",
    "The data is a sine wave  \n",
    "Tutorial comes from here: https://github.com/jaungiers/LSTM-Neural-Network-for-Time-Series-Prediction"
   ]
  },
  {
   "cell_type": "markdown",
   "metadata": {},
   "source": [
    "###### TODO  \n",
    "Try Seasonality time series  \n",
    "Try OutFront Media data  \n",
    "Try normalizing the input  \n",
    "Try tweaking the parameters"
   ]
  },
  {
   "cell_type": "code",
   "execution_count": 1,
   "metadata": {},
   "outputs": [
    {
     "name": "stderr",
     "output_type": "stream",
     "text": [
      "Using TensorFlow backend.\n"
     ]
    }
   ],
   "source": [
    "from __future__ import print_function, division\n",
    "import numpy as np\n",
    "import pandas as pd\n",
    "import tensorflow as tf\n",
    "from keras.layers import Dense, Activation, Dropout, LSTM\n",
    "from keras.models import Sequential\n",
    "from calcMAPE import calcMAPE\n",
    "from numpy import newaxis"
   ]
  },
  {
   "cell_type": "code",
   "execution_count": 2,
   "metadata": {},
   "outputs": [],
   "source": [
    "def getData(config):\n",
    "    return pd.read_csv(config[\"dataLoc\"]+config[\"fileName\"])"
   ]
  },
  {
   "cell_type": "code",
   "execution_count": 3,
   "metadata": {},
   "outputs": [],
   "source": [
    "def getConfig():\n",
    "    config={}\n",
    "    config[\"dataLoc\"] = \"/home/tbrownex/data/LSTMtutorial/\"\n",
    "    config[\"fileName\"] = \"sinewave.csv\"\n",
    "    config[\"batchSize\"] = 32\n",
    "    config[\"segmentLength\"] = 50\n",
    "    config[\"epochs\"] = 3\n",
    "    config[\"testPct\"] = 0.2\n",
    "    return config"
   ]
  },
  {
   "cell_type": "code",
   "execution_count": 4,
   "metadata": {},
   "outputs": [],
   "source": [
    "def prepData(df):\n",
    "    '''\n",
    "    Make sure the number of entries in the DF is a multiple of the segment Length\n",
    "    '''\n",
    "    extra = df.shape[0] % config[\"segmentLength\"]\n",
    "    if extra > 0:\n",
    "        df = df[:-extra]\n",
    "        print(\"{} rows removed\".format(extra))\n",
    "    return np.array(df[\"sinewave\"])"
   ]
  },
  {
   "cell_type": "code",
   "execution_count": 5,
   "metadata": {},
   "outputs": [],
   "source": [
    "def formatKeras(df):\n",
    "    ''' Incoming data is 1D. Put it into 3D for keras where:\n",
    "         2nd and 3rd dimensions are a plane with shape [segmentLength, 1]\n",
    "         Stack the planes to make the 1st dimension.\n",
    "         Each plane is the previous plane shifted by 1 byte.\n",
    "         Skim off the last element in each plane (byte 50) for the label (y), \n",
    "         leaving 49 elements behind\n",
    "         '''\n",
    "    segments = []\n",
    "    offset = 0\n",
    "    while offset < (df.shape[0] - config[\"segmentLength\"]):\n",
    "        segment = df[offset:offset+config[\"segmentLength\"]]\n",
    "        segment = np.reshape(segment, newshape=[config[\"segmentLength\"], 1])\n",
    "        segments.append(segment)\n",
    "        offset += 1\n",
    "    arr = np.array(segments)\n",
    "    x = arr[:, :-1]\n",
    "    y = arr[:, -1, [0]]\n",
    "    return x, y"
   ]
  },
  {
   "cell_type": "code",
   "execution_count": 6,
   "metadata": {},
   "outputs": [],
   "source": [
    "def fitModel(model, config):\n",
    "    m = model.fit(\n",
    "        trainX,\n",
    "        trainY,\n",
    "        verbose=0,\n",
    "        epochs= config[\"epochs\"],\n",
    "        batch_size = config[\"batchSize\"])\n",
    "    return m.history[\"loss\"][0]"
   ]
  },
  {
   "cell_type": "code",
   "execution_count": 7,
   "metadata": {},
   "outputs": [],
   "source": [
    "def addLayers(model, width):\n",
    "    input_dim = 1\n",
    "    return_seq = False\n",
    "    use_bias = True\n",
    "    bias_initializer=\"tom\"\n",
    "    L1size = 100\n",
    "    L1act = \"tanh\"\n",
    "    \n",
    "    model.add(LSTM(units=L1size,\n",
    "                   activation=L1act,\n",
    "                   input_shape=(width, input_dim),\n",
    "                   return_sequences=return_seq))\n",
    "    model.add(Dense(1, activation=\"linear\"))\n",
    "    return model"
   ]
  },
  {
   "cell_type": "code",
   "execution_count": 8,
   "metadata": {},
   "outputs": [],
   "source": [
    "def getPredictions(testX, testY):\n",
    "    # The idea here is to get an initial segment to use for prediction. testX[0] is one segmentLength\n",
    "    # After that, replace the testX with predicted values, one at a time\n",
    "    testSeg = testX[0]\n",
    "    testSeg = testSeg[newaxis,:,:]    # Needs to be 3D\n",
    "\n",
    "    # Make the predictions\n",
    "    predictions = []\n",
    "    for _ in range(testY.shape[0]):\n",
    "        pred = model.predict(testSeg, batch_size=1)[0][0]\n",
    "        predictions.append(pred)\n",
    "        # Shift the test segment one to the left and replace the rightmost value with the prediction\n",
    "        testSeg = np.roll(testSeg, -1)\n",
    "        testSeg[0,-1,0] = pred\n",
    "    return predictions"
   ]
  },
  {
   "cell_type": "code",
   "execution_count": 9,
   "metadata": {},
   "outputs": [
    {
     "name": "stdout",
     "output_type": "stream",
     "text": [
      "1 rows removed\n",
      "Before formatting, data has shape: (5000,)\n",
      "After formatting, X has shape: (4950, 49, 1) and Y (4950, 1)\n"
     ]
    }
   ],
   "source": [
    "config = getConfig()\n",
    "df = getData(config)\n",
    "arr = prepData(df)\n",
    "\n",
    "print(\"Before formatting, data has shape: {}\".format(arr.shape))\n",
    "X,Y = formatKeras(arr)\n",
    "print(\"After formatting, X has shape: {} and Y {}\".format(X.shape, Y.shape))\n",
    "\n",
    "testCount = int(X.shape[0]*(config[\"testPct\"]))\n",
    "trainX = X[:-testCount]\n",
    "trainY = Y[:-testCount]\n",
    "testX = X[-testCount:]\n",
    "testY = Y[-testCount:]"
   ]
  },
  {
   "cell_type": "code",
   "execution_count": 10,
   "metadata": {},
   "outputs": [
    {
     "name": "stdout",
     "output_type": "stream",
     "text": [
      "MAPE for the first 100 predictions is 2.06%\n"
     ]
    }
   ],
   "source": [
    "width = trainX.shape[1]\n",
    "model = Sequential()\n",
    "model = addLayers(model, width)\n",
    "model.compile(loss=\"mse\", optimizer=\"adam\")\n",
    "fitModel(model, config)\n",
    "predictions = getPredictions(testX, testY)\n",
    "\n",
    "# calculate the error\n",
    "n = 100\n",
    "mape = calcMAPE(testY[:n,0], np.array(predictions[:n]))\n",
    "print(\"MAPE for the first {} predictions is {:.2%}\".format(n, mape))"
   ]
  },
  {
   "cell_type": "code",
   "execution_count": 12,
   "metadata": {},
   "outputs": [
    {
     "data": {
      "image/png": "[encoded data removed]",
      "text/plain": [
       "<Figure size 432x288 with 1 Axes>"
      ]
     },
     "metadata": {},
     "output_type": "display_data"
    }
   ],
   "source": [
    "import matplotlib.pyplot as plt\n",
    "plt.plot(predictions)\n",
    "plt.plot(testY[:,0])\n",
    "plt.show()"
   ]
  },
  {
   "cell_type": "code",
   "execution_count": null,
   "metadata": {},
   "outputs": [],
   "source": []
  }
 ],
 "metadata": {
  "kernelspec": {
   "display_name": "Python 3",
   "language": "python",
   "name": "python3"
  },
  "language_info": {
   "codemirror_mode": {
    "name": "ipython",
    "version": 3
   },
   "file_extension": ".py",
   "mimetype": "text/x-python",
   "name": "python",
   "nbconvert_exporter": "python",
   "pygments_lexer": "ipython3",
   "version": "3.5.2"
  }
 },
 "nbformat": 4,
 "nbformat_minor": 2
}
