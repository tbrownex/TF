{
 "cells": [
  {
   "cell_type": "markdown",
   "metadata": {},
   "source": [
    "#### http://35.193.70.70:8888/notebooks/TF/Probability/Probabilistic-Programming-and-Bayesian-Methods-for-Hackers/Chapter3_MCMC/Ch3_IntroMCMC_TFP.ipynb"
   ]
  },
  {
   "cell_type": "markdown",
   "metadata": {},
   "source": [
    "##### The idea is to generate some data via Poisson distribution, with given lambdas. Then figure out what those lambdas are"
   ]
  },
  {
   "cell_type": "code",
   "execution_count": 2,
   "metadata": {},
   "outputs": [
    {
     "name": "stdout",
     "output_type": "stream",
     "text": [
      "\n",
      "WARNING: The TensorFlow contrib module will not be included in TensorFlow 2.0.\n",
      "For more information, please see:\n",
      "  * https://github.com/tensorflow/community/blob/master/rfcs/20180907-contrib-sunset.md\n",
      "  * https://github.com/tensorflow/addons\n",
      "If you depend on functionality not listed there, please file an issue.\n",
      "\n"
     ]
    }
   ],
   "source": [
    "import tensorflow as tf\n",
    "import tensorflow_probability as tfp\n",
    "tfd = tfp.distributions\n",
    "import matplotlib.pyplot as plt\n",
    "from IPython.core.pylabtools import figsize\n",
    "\n",
    "lambda1Actual = 1.5\n",
    "lambda2Actual = 4.2\n",
    "# This is the \"solution space\" for Lambda1 (x_) and Lambda2 (y_)\n",
    "gridX = gridY = np.linspace(.01, 5, 100)\n",
    "alphaX = 0.3\n",
    "alphaY = 0.1"
   ]
  },
  {
   "cell_type": "code",
   "execution_count": 3,
   "metadata": {},
   "outputs": [],
   "source": [
    "# Specify Lambda and generate the data. These lambdas are what we're trying to figure out (pretending we don't know it)\n",
    "def getData(lambda1Actual, lambda2Actual, N):\n",
    "    dist   = tfd.Poisson(rate=lambda1Actual)\n",
    "    xVals = dist.sample(sample_shape=(N, 1))\n",
    "    dist   = tfd.Poisson(rate=lambda2Actual)\n",
    "    yVals = dist.sample(sample_shape=(N, 1))\n",
    "    data = tf.concat([xVals, yVals], axis=1)\n",
    "    return tf.cast(data, dtype=tf.float64).eval()"
   ]
  },
  {
   "cell_type": "code",
   "execution_count": 4,
   "metadata": {},
   "outputs": [],
   "source": [
    "# Model Lambdas with Exponential distribution, taking a guess at alphas\n",
    "# This is just the initial prior: once we're in the loop then posterior becomes \"prior\"\n",
    "def initPrior():\n",
    "    rawX = tfd.Exponential(rate=alphaX).log_prob(tf.to_float(gridX))\n",
    "    rawY = tfd.Exponential(rate=alphaY).log_prob(tf.to_float(gridY))\n",
    "    exp_x_ = tf.reshape(rawX, shape=[-1,1])\n",
    "    exp_y_ = tf.transpose(tf.reshape(rawY, shape=[-1,1]))\n",
    "    pTheta  = tf.math.add(exp_x_,exp_y_)\n",
    "    return pTheta.eval()"
   ]
  },
  {
   "cell_type": "code",
   "execution_count": 5,
   "metadata": {},
   "outputs": [],
   "source": [
    "def plotPrior(prior):\n",
    "    plt.figure(figsize(10, 6))\n",
    "    plt.contour(gridX, gridY, prior)\n",
    "    jet = plt.cm.jet\n",
    "    im = plt.imshow(prior, interpolation='none', origin='lower',\n",
    "                    cmap=jet, extent=(0, 5, 0, 5))\n",
    "    plt.scatter(lambda1Actual, lambda2Actual, c=\"k\", s=50, edgecolor=\"none\")\n",
    "    plt.xlim(0, 5)\n",
    "    plt.ylim(0, 5)\n",
    "    plt.title(\"Landscape formed by Exponential priors on $p_1, p_2$.\")"
   ]
  },
  {
   "cell_type": "code",
   "execution_count": 6,
   "metadata": {},
   "outputs": [],
   "source": [
    "def getLikelihood(x_, y_, X, Y):\n",
    "    likelihoodX = tfd.Poisson(rate=x_).log_prob(X)\n",
    "    likelihoodY = tfd.Poisson(rate=y_).log_prob(Y)\n",
    "    return tf.math.add(likelihoodX, tf.transpose(likelihoodY))"
   ]
  },
  {
   "cell_type": "code",
   "execution_count": 7,
   "metadata": {},
   "outputs": [],
   "source": [
    "def getPoint(numRows, numCols, prior):\n",
    "    prior = prior.eval()\n",
    "    Max = -np.inf\n",
    "    idx = None\n",
    "    for col in range(numCols):\n",
    "        if prior[:,col].max() > Max:\n",
    "            Max = prior[:,col].max()\n",
    "            idx = col\n",
    "    lambda1 = idx/numCols*5\n",
    "    \n",
    "    Max = -np.inf\n",
    "    idx = None\n",
    "    for row in range(numRows):\n",
    "        if prior[row,:].max() > Max:\n",
    "            Max = prior[row,:].max()\n",
    "            idx = row\n",
    "        lambda2 = idx/numRows*5\n",
    "    return lambda1, lambda2"
   ]
  },
  {
   "cell_type": "code",
   "execution_count": 63,
   "metadata": {},
   "outputs": [],
   "source": [
    "nList = [320]\n",
    "points = []      # These are the best guesses of Lambda1 and 2 while looping over the data\n",
    "\n",
    "for N in nList:\n",
    "    with tf.Session() as sess:\n",
    "        data = getData(lambda1Actual, lambda2Actual, N)\n",
    "        prior = initPrior()\n",
    "        numCols  = int(prior.shape[1])\n",
    "        numRows = int(prior.shape[0])\n",
    "        for n in range(N):\n",
    "            x = data[n][0]\n",
    "            y = data[n][1]\n",
    "            x = np.reshape(x, newshape=[1,1])\n",
    "            y = np.reshape(y, newshape=[1,1])\n",
    "            l = getLikelihood(gridX, gridY, x, y)\n",
    "            prior = l + prior\n",
    "            if n%10 == 0:\n",
    "                prior_ = sess.run(prior)\n",
    "                bestL1, bestL2 = getPoint(numRows, numCols, prior)\n",
    "                tup = (N, bestL1, bestL2)\n",
    "                points.append(tup)\n",
    "        bestL1, bestL2= getPoint(numRows, numCols, prior)\n",
    "        tup = (N, bestL1, bestL2)\n",
    "        points.append(tup)"
   ]
  },
  {
   "cell_type": "code",
   "execution_count": 64,
   "metadata": {},
   "outputs": [
    {
     "name": "stdout",
     "output_type": "stream",
     "text": [
      "Actuals\n",
      "-  Lambda1:  1.5\n",
      "-  Lambda2:  4.2 \n",
      "\n",
      "' N'        L1          L2       Error\n",
      "320        2.70      3.05      1.66\n",
      "320        1.15      3.70      0.61\n",
      "320        1.25      3.80      0.47\n",
      "320        1.30      3.75      0.49\n",
      "320        1.30      3.85      0.40\n",
      "320        1.40      3.95      0.27\n",
      "320        1.35      4.20      0.15\n",
      "320        1.30      4.20      0.20\n",
      "320        1.25      4.20      0.25\n",
      "320        1.30      4.20      0.20\n",
      "320        1.40      4.05      0.18\n",
      "320        1.40      4.05      0.18\n",
      "320        1.40      4.05      0.18\n",
      "320        1.45      4.00      0.21\n",
      "320        1.45      3.95      0.25\n",
      "320        1.45      3.95      0.25\n",
      "320        1.45      4.00      0.21\n",
      "320        1.45      4.00      0.21\n",
      "320        1.50      3.95      0.25\n",
      "320        1.50      4.00      0.20\n",
      "320        1.50      4.00      0.20\n",
      "320        1.55      4.00      0.21\n",
      "320        1.55      4.00      0.21\n",
      "320        1.60      4.00      0.22\n",
      "320        1.55      4.00      0.21\n",
      "320        1.55      4.00      0.21\n",
      "320        1.55      4.05      0.16\n",
      "320        1.50      4.00      0.20\n",
      "320        1.55      4.05      0.16\n",
      "320        1.55      4.10      0.11\n",
      "320        1.55      4.05      0.16\n",
      "320        1.50      4.10      0.10\n",
      "320        1.55      4.05      0.16\n"
     ]
    }
   ],
   "source": [
    "print(\"Actuals\")\n",
    "actual = np.array([lambda1Actual, lambda2Actual])\n",
    "print(\"- \",\"Lambda1: \", lambda1Actual)\n",
    "print(\"- \",\"Lambda2: \", lambda2Actual, \"\\n\")\n",
    "print(\"' N'{:>10}{:>12}{:>12}\".format(\"L1\", \"L2\", \"Error\"))\n",
    "for p in points:\n",
    "    N, L1, L2 = p\n",
    "    guess = np.array([L1,L2])\n",
    "    err = np.linalg.norm(actual-guess)\n",
    "    print(\"{:>3}{:>12.2f}{:>10.2f}{:>10.2f}\".format(N,L1, L2,err))"
   ]
  },
  {
   "cell_type": "code",
   "execution_count": null,
   "metadata": {},
   "outputs": [],
   "source": []
  }
 ],
 "metadata": {
  "kernelspec": {
   "display_name": "Python 3",
   "language": "python",
   "name": "python3"
  },
  "language_info": {
   "codemirror_mode": {
    "name": "ipython",
    "version": 3
   },
   "file_extension": ".py",
   "mimetype": "text/x-python",
   "name": "python",
   "nbconvert_exporter": "python",
   "pygments_lexer": "ipython3",
   "version": "3.5.2"
  }
 },
 "nbformat": 4,
 "nbformat_minor": 2
}
