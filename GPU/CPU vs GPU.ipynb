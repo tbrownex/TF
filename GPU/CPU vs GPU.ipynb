{
 "cells": [
  {
   "cell_type": "code",
   "execution_count": null,
   "metadata": {
    "collapsed": true
   },
   "outputs": [],
   "source": [
    "from __future__ import print_function\n",
    "import matplotlib\n",
    "import matplotlib.pyplot as plt\n",
    "import tensorflow as tf\n",
    "import time_"
   ]
  },
  {
   "cell_type": "code",
   "execution_count": null,
   "metadata": {
    "collapsed": true
   },
   "outputs": [],
   "source": [
    "def get_times(maximum_time):\n",
    "    device_times = { \"/gpu:0\":[], \"/cpu:0\":[] }\n",
    "    matrix_sizes = range(500,50000,50)\n",
    "\n",
    "    for size in matrix_sizes:\n",
    "        for device_name in device_times.keys():\n",
    "\n",
    "            print(\"####### Calculating on the \" + device_name + \" #######\")\n",
    "\n",
    "            shape = (size,size)\n",
    "            data_type = tf.float16\n",
    "            with tf.device(device_name):\n",
    "                r1 = tf.random_uniform(shape=shape, minval=0, maxval=1, dtype=data_type)\n",
    "                r2 = tf.random_uniform(shape=shape, minval=0, maxval=1, dtype=data_type)\n",
    "                dot_operation = tf.matmul(r2, r1)\n",
    "\n",
    "\n",
    "            with tf.Session(config=tf.ConfigProto(log_device_placement=True)) as session:\n",
    "                    start_time = time.time()\n",
    "                    result = session.run(dot_operation)\n",
    "                    time_taken = time.time() - start_time\n",
    "                    print(result)\n",
    "                    device_times[device_name].append(time_taken)\n",
    "\n",
    "            print(device_times)\n",
    "\n",
    "            if time_taken > maximum_time:\n",
    "                return device_times, matrix_sizes"
   ]
  },
  {
   "cell_type": "code",
   "execution_count": null,
   "metadata": {
    "collapsed": true
   },
   "outputs": [],
   "source": [
    "device_times, matrix_sizes = get_times(1.5)\n",
    "gpu_times = device_times[\"/gpu:0\"]\n",
    "cpu_times = device_times[\"/cpu:0\"]\n",
    "\n",
    "plt.plot(matrix_sizes[:len(gpu_times)], gpu_times, 'o-')\n",
    "plt.plot(matrix_sizes[:len(cpu_times)], cpu_times, 'o-')\n",
    "plt.ylabel('Time')\n",
    "plt.xlabel('Matrix size')\n",
    "plt.show()"
   ]
  }
 ],
 "metadata": {
  "kernelspec": {
   "display_name": "Python [Root]",
   "language": "python",
   "name": "Python [Root]"
  },
  "language_info": {
   "codemirror_mode": {
    "name": "ipython",
    "version": 3
   },
   "file_extension": ".py",
   "mimetype": "text/x-python",
   "name": "python",
   "nbconvert_exporter": "python",
   "pygments_lexer": "ipython3",
   "version": "3.5.2"
  }
 },
 "nbformat": 4,
 "nbformat_minor": 0
}
