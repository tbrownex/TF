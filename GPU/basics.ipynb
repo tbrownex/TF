{
 "cells": [
  {
   "cell_type": "code",
   "execution_count": 1,
   "metadata": {
    "collapsed": true
   },
   "outputs": [],
   "source": [
    "import tensorflow as tf"
   ]
  },
  {
   "cell_type": "code",
   "execution_count": 8,
   "metadata": {},
   "outputs": [],
   "source": [
    "a = tf.constant([1,3,5,7], shape=[2,2])"
   ]
  },
  {
   "cell_type": "code",
   "execution_count": 9,
   "metadata": {
    "collapsed": true
   },
   "outputs": [],
   "source": [
    "b = tf.constant([1,1,2,2], shape=[2,2])"
   ]
  },
  {
   "cell_type": "code",
   "execution_count": 14,
   "metadata": {},
   "outputs": [
    {
     "name": "stdout",
     "output_type": "stream",
     "text": [
      "[[ 13.  16.]\n",
      " [ 29.  36.]]\n"
     ]
    }
   ],
   "source": [
    "# Creates a graph.\n",
    "a = tf.constant([1.0, 2.0, 3.0, 4.0], shape=[2, 2], name='toma')\n",
    "b = tf.constant([3.0, 4.0, 5.0, 6.0], shape=[2, 2], name='tomb')\n",
    "c = tf.matmul(a, b)\n",
    "with tf.Session(config=tf.ConfigProto(log_device_placement=True)) as sess:\n",
    "    print(sess.run(c))"
   ]
  },
  {
   "cell_type": "markdown",
   "metadata": {},
   "source": [
    "#### Get list of GPU devices"
   ]
  },
  {
   "cell_type": "code",
   "execution_count": 19,
   "metadata": {},
   "outputs": [
    {
     "data": {
      "text/plain": [
       "['/gpu:0']"
      ]
     },
     "execution_count": 19,
     "metadata": {},
     "output_type": "execute_result"
    }
   ],
   "source": [
    "from tensorflow.python.client import device_lib\n",
    "\n",
    "def get_available_gpus():\n",
    "    local_device_protos = device_lib.list_local_devices()\n",
    "    return [x.name for x in local_device_protos if x.device_type == 'GPU']\n",
    "\n",
    "get_available_gpus()"
   ]
  },
  {
   "cell_type": "code",
   "execution_count": 23,
   "metadata": {},
   "outputs": [
    {
     "name": "stdout",
     "output_type": "stream",
     "text": [
      "partition_graphs {\n",
      "  node {\n",
      "    name: \"Tom/_0\"\n",
      "    op: \"_Send\"\n",
      "    input: \"Tom/_0__cf__7\"\n",
      "    device: \"/job:localhost/replica:0/task:0/gpu:0\"\n",
      "    attr {\n",
      "      key: \"T\"\n",
      "      value {\n",
      "        type: DT_FLOAT\n",
      "      }\n",
      "    }\n",
      "    attr {\n",
      "      key: \"client_terminated\"\n",
      "      value {\n",
      "        b: false\n",
      "      }\n",
      "    }\n",
      "    attr {\n",
      "      key: \"recv_device\"\n",
      "      value {\n",
      "        s: \"/job:localhost/replica:0/task:0/cpu:0\"\n",
      "      }\n",
      "    }\n",
      "    attr {\n",
      "      key: \"send_device\"\n",
      "      value {\n",
      "        s: \"/job:localhost/replica:0/task:0/gpu:0\"\n",
      "      }\n",
      "    }\n",
      "    attr {\n",
      "      key: \"send_device_incarnation\"\n",
      "      value {\n",
      "        i: 1\n",
      "      }\n",
      "    }\n",
      "    attr {\n",
      "      key: \"tensor_name\"\n",
      "      value {\n",
      "        s: \"edge_8_Tom\"\n",
      "      }\n",
      "    }\n",
      "  }\n",
      "  node {\n",
      "    name: \"Tom/_0__cf__7\"\n",
      "    op: \"Const\"\n",
      "    device: \"/job:localhost/replica:0/task:0/gpu:0\"\n",
      "    attr {\n",
      "      key: \"dtype\"\n",
      "      value {\n",
      "        type: DT_FLOAT\n",
      "      }\n",
      "    }\n",
      "    attr {\n",
      "      key: \"value\"\n",
      "      value {\n",
      "        tensor {\n",
      "          dtype: DT_FLOAT\n",
      "          tensor_shape {\n",
      "            dim {\n",
      "              size: 2\n",
      "            }\n",
      "            dim {\n",
      "              size: 2\n",
      "            }\n",
      "          }\n",
      "          tensor_content: \"\\000\\000\\260A\\000\\000\\340A\\000\\000DB\\000\\000\\200B\"\n",
      "        }\n",
      "      }\n",
      "    }\n",
      "  }\n",
      "  versions {\n",
      "    producer: 21\n",
      "  }\n",
      "}\n",
      "partition_graphs {\n",
      "  node {\n",
      "    name: \"Tom/_1\"\n",
      "    op: \"_Recv\"\n",
      "    device: \"/job:localhost/replica:0/task:0/cpu:0\"\n",
      "    attr {\n",
      "      key: \"client_terminated\"\n",
      "      value {\n",
      "        b: false\n",
      "      }\n",
      "    }\n",
      "    attr {\n",
      "      key: \"recv_device\"\n",
      "      value {\n",
      "        s: \"/job:localhost/replica:0/task:0/cpu:0\"\n",
      "      }\n",
      "    }\n",
      "    attr {\n",
      "      key: \"send_device\"\n",
      "      value {\n",
      "        s: \"/job:localhost/replica:0/task:0/gpu:0\"\n",
      "      }\n",
      "    }\n",
      "    attr {\n",
      "      key: \"send_device_incarnation\"\n",
      "      value {\n",
      "        i: 1\n",
      "      }\n",
      "    }\n",
      "    attr {\n",
      "      key: \"tensor_name\"\n",
      "      value {\n",
      "        s: \"edge_8_Tom\"\n",
      "      }\n",
      "    }\n",
      "    attr {\n",
      "      key: \"tensor_type\"\n",
      "      value {\n",
      "        type: DT_FLOAT\n",
      "      }\n",
      "    }\n",
      "  }\n",
      "  node {\n",
      "    name: \"_send_Tom_0\"\n",
      "    op: \"_Send\"\n",
      "    input: \"Tom/_1\"\n",
      "    device: \"/job:localhost/replica:0/task:0/cpu:0\"\n",
      "    attr {\n",
      "      key: \"T\"\n",
      "      value {\n",
      "        type: DT_FLOAT\n",
      "      }\n",
      "    }\n",
      "    attr {\n",
      "      key: \"client_terminated\"\n",
      "      value {\n",
      "        b: true\n",
      "      }\n",
      "    }\n",
      "    attr {\n",
      "      key: \"recv_device\"\n",
      "      value {\n",
      "        s: \"/job:localhost/replica:0/task:0/cpu:0\"\n",
      "      }\n",
      "    }\n",
      "    attr {\n",
      "      key: \"send_device\"\n",
      "      value {\n",
      "        s: \"/job:localhost/replica:0/task:0/cpu:0\"\n",
      "      }\n",
      "    }\n",
      "    attr {\n",
      "      key: \"send_device_incarnation\"\n",
      "      value {\n",
      "        i: 5640811479572191768\n",
      "      }\n",
      "    }\n",
      "    attr {\n",
      "      key: \"tensor_name\"\n",
      "      value {\n",
      "        s: \"Tom:0\"\n",
      "      }\n",
      "    }\n",
      "  }\n",
      "  versions {\n",
      "    producer: 21\n",
      "  }\n",
      "}\n",
      "\n"
     ]
    }
   ],
   "source": [
    "# Creates a graph.\n",
    "a = tf.constant([1.0, 2.0, 3.0, 4.0, 5.0, 6.0], shape=[2, 3], name='a')\n",
    "b = tf.constant([1.0, 2.0, 3.0, 4.0, 5.0, 6.0], shape=[3, 2], name='b')\n",
    "c = tf.matmul(a, b, name='Tom')\n",
    "# Creates a session with log_device_placement set to True.\n",
    "sess = tf.Session()\n",
    "\n",
    "# Runs the op.\n",
    "options = tf.RunOptions(output_partition_graphs=True)\n",
    "metadata = tf.RunMetadata()\n",
    "c_val = sess.run(c, options=options, run_metadata=metadata)\n",
    "\n",
    "print(metadata)"
   ]
  },
  {
   "cell_type": "code",
   "execution_count": null,
   "metadata": {
    "collapsed": true
   },
   "outputs": [],
   "source": []
  }
 ],
 "metadata": {
  "kernelspec": {
   "display_name": "Python 3",
   "language": "python",
   "name": "python3"
  },
  "language_info": {
   "codemirror_mode": {
    "name": "ipython",
    "version": 3
   },
   "file_extension": ".py",
   "mimetype": "text/x-python",
   "name": "python",
   "nbconvert_exporter": "python",
   "pygments_lexer": "ipython3",
   "version": "3.5.2"
  }
 },
 "nbformat": 4,
 "nbformat_minor": 2
}
