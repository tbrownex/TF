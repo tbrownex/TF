{
 "cells": [
  {
   "cell_type": "code",
   "execution_count": 7,
   "id": "7b332371",
   "metadata": {},
   "outputs": [],
   "source": [
    "import os\n",
    "os.environ['TF_CPP_MIN_LOG_LEVEL'] = '3' \n",
    "\n",
    "import numpy as np\n",
    "import tensorflow as tf\n",
    "import matplotlib.pyplot as plt\n",
    "\n",
    "from keras.optimizers import RMSprop"
   ]
  },
  {
   "cell_type": "code",
   "execution_count": 8,
   "id": "dd1527da",
   "metadata": {},
   "outputs": [],
   "source": [
    "DATASIZE = 1000\n",
    "SCALE = 10"
   ]
  },
  {
   "cell_type": "code",
   "execution_count": 9,
   "id": "d3a14e0d",
   "metadata": {},
   "outputs": [],
   "source": [
    "def getConfig():\n",
    "    return {\n",
    "        'inputSize': 1,\n",
    "        'l1Units' : 8,\n",
    "        'l2Units' : 8,\n",
    "        'batchSize': 32}"
   ]
  },
  {
   "cell_type": "code",
   "execution_count": 10,
   "id": "3f88e70e",
   "metadata": {},
   "outputs": [],
   "source": [
    "def getReal():\n",
    "    data = []\n",
    "\n",
    "    x = SCALE*(np.random.random_sample((DATASIZE,))-0.5)\n",
    "\n",
    "    for i in range(DATASIZE):\n",
    "        yi = 10 + x[i]*x[i]\n",
    "        data.append([x[i], yi])\n",
    "    return np.array(data)"
   ]
  },
  {
   "cell_type": "code",
   "execution_count": 11,
   "id": "ff1a5352",
   "metadata": {},
   "outputs": [],
   "source": [
    "def getFake():\n",
    "    # This is the random input for the generator\n",
    "    return SCALE*(np.random.random_sample((DATASIZE,))-0.5)"
   ]
  },
  {
   "cell_type": "code",
   "execution_count": 12,
   "id": "873802ce",
   "metadata": {},
   "outputs": [],
   "source": [
    "def buildGenerator(cfg):\n",
    "    nn = tf.keras.models.Sequential()\n",
    "    nn.add(tf.keras.Input(shape=cfg['inputSize'],))\n",
    "    nn.add(tf.keras.layers.Dense(cfg['l1Units'], activation='relu'))\n",
    "    nn.add(tf.keras.layers.Dense(cfg['l2Units'], activation='relu'))\n",
    "    nn.add(tf.keras.layers.Dense(2))\n",
    "    return nn"
   ]
  },
  {
   "cell_type": "code",
   "execution_count": 14,
   "id": "1c68819d",
   "metadata": {},
   "outputs": [],
   "source": [
    "def buildDiscriminator(cfg):\n",
    "    nn = tf.keras.models.Sequential()\n",
    "    nn.add(tf.keras.Input(shape=2,))\n",
    "    nn.add(tf.keras.layers.Dense(cfg['l1Units'], activation='relu'))\n",
    "    nn.add(tf.keras.layers.Dense(cfg['l2Units'], activation='relu'))\n",
    "    nn.add(tf.keras.layers.Dense(1))\n",
    "    return nn"
   ]
  },
  {
   "cell_type": "code",
   "execution_count": 15,
   "id": "7a5aecee",
   "metadata": {},
   "outputs": [],
   "source": [
    "def getBatch(data, cfg):\n",
    "    idx = np.random.choice(len(data), size=cfg['batchSize'], replace=False)\n",
    "    return data[idx]"
   ]
  },
  {
   "cell_type": "code",
   "execution_count": 16,
   "id": "9204d470",
   "metadata": {},
   "outputs": [],
   "source": [
    "cfg = getConfig()"
   ]
  },
  {
   "cell_type": "code",
   "execution_count": 15,
   "id": "b187643b",
   "metadata": {},
   "outputs": [],
   "source": [
    "real = getReal()\n",
    "fake = getFake()"
   ]
  },
  {
   "cell_type": "code",
   "execution_count": 16,
   "id": "21f1aef1",
   "metadata": {},
   "outputs": [],
   "source": [
    "gen = buildGenerator(cfg)\n",
    "disc = buildDiscriminator(cfg)\n",
    "#assert gen.output_shape[1] == data.shape[1], 'invalid shapes'"
   ]
  },
  {
   "cell_type": "code",
   "execution_count": 23,
   "id": "b194f3d8",
   "metadata": {},
   "outputs": [],
   "source": [
    "fakeBatch = getBatch(fake, cfg)\n",
    "realBatch = getBatch(real, cfg)"
   ]
  },
  {
   "cell_type": "markdown",
   "id": "85efd0d6",
   "metadata": {},
   "source": [
    "##### Loss functions"
   ]
  },
  {
   "cell_type": "code",
   "execution_count": 35,
   "id": "5b7a07ee",
   "metadata": {},
   "outputs": [],
   "source": [
    "# Minimize\n",
    "disc_loss = disc(realBatch) - disc(gen(fakeBatch))\n",
    "gen_loss = disc(gen(fakeBatch)).numpy().mean()"
   ]
  },
  {
   "cell_type": "code",
   "execution_count": 36,
   "id": "c2f17aa8",
   "metadata": {},
   "outputs": [],
   "source": [
    "gen.compile(\n",
    "    optimizer='rmsprop',\n",
    "    loss=gen_loss,\n",
    "    steps_per_execution=1)"
   ]
  },
  {
   "cell_type": "code",
   "execution_count": 37,
   "id": "769b4831",
   "metadata": {},
   "outputs": [
    {
     "data": {
      "text/plain": [
       "0.043404594"
      ]
     },
     "execution_count": 37,
     "metadata": {},
     "output_type": "execute_result"
    }
   ],
   "source": [
    "gen.loss"
   ]
  },
  {
   "cell_type": "code",
   "execution_count": 11,
   "id": "98ec7f6a",
   "metadata": {},
   "outputs": [
    {
     "data": {
      "text/plain": [
       "' The discriminator should output very different values for Real vs Fake so\\nthe loss functions will be:\\nGenerator: minimize disc(fake)\\nDiscriminator: maximize disc(actual) - disc(fake)'"
      ]
     },
     "execution_count": 11,
     "metadata": {},
     "output_type": "execute_result"
    }
   ],
   "source": [
    "''' The discriminator should output very different values for Real vs Fake so\n",
    "the loss functions will be:\n",
    "Generator: minimize disc(fake)\n",
    "Discriminator: maximize disc(actual) - disc(fake)'''"
   ]
  },
  {
   "cell_type": "code",
   "execution_count": 31,
   "id": "610368ed",
   "metadata": {},
   "outputs": [],
   "source": [
    "class WGANGP():\n",
    "    def __init__(self, cfg):\n",
    "        self.n_critic = 5\n",
    "        optimizer = RMSprop(lr=0.00005)\n",
    "        self.generator = self.build_generator(cfg)\n",
    "        self.critic = self.build_critic(cfg)\n",
    "\n",
    "        #-------------------------------\n",
    "        # Construct Computational Graph\n",
    "        #       for the Critic\n",
    "        #-------------------------------\n",
    "\n",
    "        # Freeze generator's layers while training critic\n",
    "        self.generator.trainable = False\n",
    "\n",
    "        # Image input (real sample)\n",
    "        '''real_img = Input(shape=self.img_shape)\n",
    "\n",
    "        # Noise input\n",
    "        z_disc = Input(shape=(self.latent_dim,))\n",
    "        # Generate image based of noise (fake sample)\n",
    "        fake_img = self.generator(z_disc)\n",
    "\n",
    "        # Discriminator determines validity of the real and fake images\n",
    "        fake = self.critic(fake_img)\n",
    "        valid = self.critic(real_img)\n",
    "\n",
    "        # Construct weighted average between real and fake images\n",
    "        interpolated_img = RandomWeightedAverage()([real_img, fake_img])\n",
    "        # Determine validity of weighted sample\n",
    "        validity_interpolated = self.critic(interpolated_img)\n",
    "\n",
    "        # Use Python partial to provide loss function with additional\n",
    "        # 'averaged_samples' argument\n",
    "        partial_gp_loss = partial(self.gradient_penalty_loss,\n",
    "                          averaged_samples=interpolated_img)\n",
    "        partial_gp_loss.__name__ = 'gradient_penalty' # Keras requires function names\n",
    "\n",
    "        self.critic_model = Model(inputs=[real_img, z_disc],\n",
    "                            outputs=[valid, fake, validity_interpolated])\n",
    "        self.critic_model.compile(loss=[self.wasserstein_loss,\n",
    "                                              self.wasserstein_loss,\n",
    "                                              partial_gp_loss],\n",
    "                                        optimizer=optimizer,\n",
    "                                        loss_weights=[1, 1, 10])\n",
    "        #-------------------------------\n",
    "        # Construct Computational Graph\n",
    "        #         for Generator\n",
    "        #-------------------------------\n",
    "\n",
    "        # For the generator we freeze the critic's layers\n",
    "        self.critic.trainable = False\n",
    "        self.generator.trainable = True\n",
    "\n",
    "        # Sampled noise for input to generator\n",
    "        z_gen = Input(shape=(self.latent_dim,))\n",
    "        # Generate images based of noise\n",
    "        img = self.generator(z_gen)\n",
    "        # Discriminator determines validity\n",
    "        valid = self.critic(img)\n",
    "        # Defines generator model\n",
    "        self.generator_model = Model(z_gen, valid)\n",
    "        self.generator_model.compile(loss=self.wasserstein_loss, optimizer=optimizer)'''\n",
    "    \n",
    "    def build_generator(self, cfg):\n",
    "        nn = tf.keras.models.Sequential()\n",
    "        nn.add(tf.keras.Input(shape=cfg['inputSize'],))\n",
    "        nn.add(tf.keras.layers.Dense(cfg['l1Units'], activation='relu'))\n",
    "        nn.add(tf.keras.layers.Dense(cfg['l2Units'], activation='relu'))\n",
    "        nn.add(tf.keras.layers.Dense(2))\n",
    "        return nn\n",
    "    def build_critic(self, cfg):\n",
    "        nn = tf.keras.models.Sequential()\n",
    "        nn.add(tf.keras.Input(shape=2,))\n",
    "        nn.add(tf.keras.layers.Dense(cfg['l1Units'], activation='relu'))\n",
    "        nn.add(tf.keras.layers.Dense(cfg['l2Units'], activation='relu'))\n",
    "        nn.add(tf.keras.layers.Dense(1))\n",
    "        return nn"
   ]
  },
  {
   "cell_type": "code",
   "execution_count": 32,
   "id": "b8e8c999",
   "metadata": {},
   "outputs": [],
   "source": [
    "cls = WGANGP(cfg)"
   ]
  },
  {
   "cell_type": "code",
   "execution_count": 28,
   "id": "dc28905f",
   "metadata": {},
   "outputs": [
    {
     "data": {
      "text/plain": [
       "<keras.engine.sequential.Sequential at 0x7f24b4404760>"
      ]
     },
     "execution_count": 28,
     "metadata": {},
     "output_type": "execute_result"
    }
   ],
   "source": [
    "cls.critic"
   ]
  },
  {
   "cell_type": "code",
   "execution_count": null,
   "id": "b5e66fa6",
   "metadata": {},
   "outputs": [],
   "source": []
  }
 ],
 "metadata": {
  "kernelspec": {
   "display_name": "Python 3 (ipykernel)",
   "language": "python",
   "name": "python3"
  },
  "language_info": {
   "codemirror_mode": {
    "name": "ipython",
    "version": 3
   },
   "file_extension": ".py",
   "mimetype": "text/x-python",
   "name": "python",
   "nbconvert_exporter": "python",
   "pygments_lexer": "ipython3",
   "version": "3.9.15"
  }
 },
 "nbformat": 4,
 "nbformat_minor": 5
}
