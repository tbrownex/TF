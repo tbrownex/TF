{
 "cells": [
  {
   "cell_type": "code",
   "execution_count": 8,
   "id": "cc7cf6be",
   "metadata": {},
   "outputs": [],
   "source": [
    "from setEnvironment import setEnv\n",
    "setEnv()\n",
    "\n",
    "import numpy as np\n",
    "import tensorflow as tf\n",
    "import matplotlib.pyplot as plt\n",
    "\n",
    "from getData import createSinWave\n",
    "from config import getConfig\n",
    "from prep import prep\n",
    "#from createGAN import createGAN\n",
    "from encoder import encoder\n",
    "from decoder import decoder"
   ]
  },
  {
   "cell_type": "code",
   "execution_count": 5,
   "id": "13640ab4",
   "metadata": {},
   "outputs": [
    {
     "data": {
      "text/plain": [
       "(960, 24, 6)"
      ]
     },
     "execution_count": 5,
     "metadata": {},
     "output_type": "execute_result"
    }
   ],
   "source": [
    "cfg = getConfig()\n",
    "\n",
    "data = createSinWave(1000, cfg)\n",
    "data = prep(data, cfg)\n",
    "\n",
    "data.shape"
   ]
  },
  {
   "cell_type": "code",
   "execution_count": 6,
   "id": "a8376e11",
   "metadata": {},
   "outputs": [],
   "source": [
    "enc = encoder(cfg)\n",
    "dec = decoder(cfg, enc.output_shape)\n",
    "#dec.summary()"
   ]
  },
  {
   "cell_type": "code",
   "execution_count": 9,
   "id": "22aff144",
   "metadata": {},
   "outputs": [],
   "source": [
    "enc.compile(\n",
    "    optimizer=tf.keras.optimizers.Adam(),\n",
    "    loss=tf.metrics.MAPE)"
   ]
  },
  {
   "cell_type": "code",
   "execution_count": null,
   "id": "dc1fba0b",
   "metadata": {},
   "outputs": [],
   "source": [
    "E_loss_T0 = tf.losses.mean_squared_error(X, X_tilde)"
   ]
  },
  {
   "cell_type": "code",
   "execution_count": null,
   "id": "c4903b42",
   "metadata": {},
   "outputs": [],
   "source": [
    "history = model.fit(\n",
    "    x_train,\n",
    "    y_train,\n",
    "    batch_size=64,\n",
    "    epochs=2,\n",
    "    validation_data=(x_val, y_val))"
   ]
  }
 ],
 "metadata": {
  "kernelspec": {
   "display_name": "Python 3 (ipykernel)",
   "language": "python",
   "name": "python3"
  },
  "language_info": {
   "codemirror_mode": {
    "name": "ipython",
    "version": 3
   },
   "file_extension": ".py",
   "mimetype": "text/x-python",
   "name": "python",
   "nbconvert_exporter": "python",
   "pygments_lexer": "ipython3",
   "version": "3.9.15"
  }
 },
 "nbformat": 4,
 "nbformat_minor": 5
}
