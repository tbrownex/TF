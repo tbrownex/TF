{
 "cells": [
  {
   "cell_type": "code",
   "execution_count": 1,
   "metadata": {},
   "outputs": [],
   "source": [
    "import tensorflow as tf"
   ]
  },
  {
   "cell_type": "code",
   "execution_count": null,
   "metadata": {},
   "outputs": [],
   "source": [
    "# Generate predetermined random weights so the networks are similarly initialized\n",
    "w1_initial = np.random.normal(size=(784,100)).astype(np.float32)\n",
    "w2_initial = np.random.normal(size=(100,100)).astype(np.float32)\n",
    "w3_initial = np.random.normal(size=(100,10)).astype(np.float32)\n",
    "\n",
    "# Small epsilon value for the BN transform\n",
    "epsilon = 1e-3"
   ]
  },
  {
   "cell_type": "code",
   "execution_count": null,
   "metadata": {},
   "outputs": [],
   "source": [
    "# Placeholders\n",
    "x = tf.placeholder(tf.float32, shape=[None, 784])\n",
    "y_ = tf.placeholder(tf.float32, shape=[None, 10])"
   ]
  },
  {
   "cell_type": "code",
   "execution_count": null,
   "metadata": {},
   "outputs": [],
   "source": [
    "# Layer 1 without BN\n",
    "w1 = tf.Variable(w1_initial)\n",
    "b1 = tf.Variable(tf.zeros([100]))\n",
    "z1 = tf.matmul(x,w1)+b1\n",
    "l1 = tf.nn.sigmoid(z1)"
   ]
  },
  {
   "cell_type": "code",
   "execution_count": null,
   "metadata": {},
   "outputs": [],
   "source": [
    "# Layer 1 with BN\n",
    "w1_BN = tf.Variable(w1_initial)\n",
    "\n",
    "# Note that pre-batch normalization bias is ommitted. The effect of this bias would be\n",
    "# eliminated when subtracting the batch mean. Instead, the role of the bias is performed\n",
    "# by the new beta variable. See Section 3.2 of the BN2015 paper.\n",
    "z1_BN = tf.matmul(x,w1_BN)\n",
    "\n",
    "# Calculate batch mean and variance\n",
    "batch_mean1, batch_var1 = tf.nn.moments(z1_BN,[0])\n",
    "\n",
    "# Apply the initial batch normalizing transform\n",
    "z1_hat = (z1_BN - batch_mean1) / tf.sqrt(batch_var1 + epsilon)\n",
    "\n",
    "# Create two new parameters, scale and beta (shift)\n",
    "scale1 = tf.Variable(tf.ones([100]))\n",
    "beta1 = tf.Variable(tf.zeros([100]))\n",
    "\n",
    "# Scale and shift to obtain the final output of the batch normalization\n",
    "# this value is fed into the activation function (here a sigmoid)\n",
    "BN1 = scale1 * z1_hat + beta1\n",
    "l1_BN = tf.nn.sigmoid(BN1)"
   ]
  },
  {
   "cell_type": "code",
   "execution_count": null,
   "metadata": {},
   "outputs": [],
   "source": [
    "# Layer 2 without BN\n",
    "w2 = tf.Variable(w2_initial)\n",
    "b2 = tf.Variable(tf.zeros([100]))\n",
    "z2 = tf.matmul(l1,w2)+b2\n",
    "l2 = tf.nn.sigmoid(z2)"
   ]
  },
  {
   "cell_type": "code",
   "execution_count": null,
   "metadata": {},
   "outputs": [],
   "source": [
    "# Layer 2 with BN, using Tensorflows built-in BN function\n",
    "w2_BN = tf.Variable(w2_initial)\n",
    "z2_BN = tf.matmul(l1_BN,w2_BN)\n",
    "batch_mean2, batch_var2 = tf.nn.moments(z2_BN,[0])\n",
    "scale2 = tf.Variable(tf.ones([100]))\n",
    "beta2 = tf.Variable(tf.zeros([100]))\n",
    "BN2 = tf.nn.batch_normalization(z2_BN,batch_mean2,batch_var2,beta2,scale2,epsilon)\n",
    "l2_BN = tf.nn.sigmoid(BN2)"
   ]
  },
  {
   "cell_type": "code",
   "execution_count": null,
   "metadata": {},
   "outputs": [],
   "source": [
    "# this is a simpler version of Tensorflow's 'official' version. See:\n",
    "# https://github.com/tensorflow/tensorflow/blob/master/tensorflow/contrib/layers/python/layers/layers.py#L102\n",
    "def batch_norm_wrapper(inputs, is_training, decay = 0.999):\n",
    "\n",
    "    scale = tf.Variable(tf.ones([inputs.get_shape()[-1]]))\n",
    "    beta = tf.Variable(tf.zeros([inputs.get_shape()[-1]]))\n",
    "    pop_mean = tf.Variable(tf.zeros([inputs.get_shape()[-1]]), trainable=False)\n",
    "    pop_var = tf.Variable(tf.ones([inputs.get_shape()[-1]]), trainable=False)\n",
    "\n",
    "    if is_training:\n",
    "        batch_mean, batch_var = tf.nn.moments(inputs,[0])\n",
    "        train_mean = tf.assign(pop_mean,\n",
    "                               pop_mean * decay + batch_mean * (1 - decay))\n",
    "        train_var = tf.assign(pop_var,\n",
    "                              pop_var * decay + batch_var * (1 - decay))\n",
    "        with tf.control_dependencies([train_mean, train_var]):\n",
    "            return tf.nn.batch_normalization(inputs,\n",
    "                batch_mean, batch_var, beta, scale, epsilon)\n",
    "    else:\n",
    "        return tf.nn.batch_normalization(inputs,\n",
    "            pop_mean, pop_var, beta, scale, epsilon)"
   ]
  }
 ],
 "metadata": {
  "kernelspec": {
   "display_name": "Python 3",
   "language": "python",
   "name": "python3"
  },
  "language_info": {
   "codemirror_mode": {
    "name": "ipython",
    "version": 3
   },
   "file_extension": ".py",
   "mimetype": "text/x-python",
   "name": "python",
   "nbconvert_exporter": "python",
   "pygments_lexer": "ipython3",
   "version": "3.5.2"
  }
 },
 "nbformat": 4,
 "nbformat_minor": 2
}
