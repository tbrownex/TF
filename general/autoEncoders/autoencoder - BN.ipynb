{
 "cells": [
  {
   "cell_type": "markdown",
   "metadata": {},
   "source": [
    "#### This one has batch normalization"
   ]
  },
  {
   "cell_type": "code",
   "execution_count": 1,
   "metadata": {},
   "outputs": [],
   "source": [
    "import gzip\n",
    "import pickle\n",
    "import numpy as np\n",
    "import tensorflow as tf\n",
    "from sklearn.utils import shuffle\n",
    "from getConfig import getConfig\n",
    "from getData import getData\n",
    "from getSet import getSet\n",
    "from normalizeData import normalize\n",
    "import prepData"
   ]
  },
  {
   "cell_type": "code",
   "execution_count": 2,
   "metadata": {},
   "outputs": [],
   "source": [
    "def createVal(d):\n",
    "    # Split Training into Train and Val. They are already shuffled so just take bottom 20% for Val\n",
    "    valSize = int(d[\"trainX\"].shape[0]*.2)\n",
    "    trainSize = d[\"trainX\"].shape[0] - valSize\n",
    "    d[\"trainX\"] = d[\"trainX\"].head(trainSize)\n",
    "    d[\"trainY\"] = d[\"trainY\"].head(trainSize)\n",
    "    d[\"valX\"] = d[\"trainX\"].tail(valSize)\n",
    "    d[\"valY\"] = d[\"trainY\"].tail(valSize)\n",
    "    \n",
    "    del d['testX'][\"unit\"]\n",
    "    return d"
   ]
  },
  {
   "cell_type": "code",
   "execution_count": 3,
   "metadata": {},
   "outputs": [],
   "source": [
    "def createDataDict(config, Set=1):\n",
    "    train, test = getData(config)    # ignore Test to setup the auto-encoder\n",
    "    train = getSet(train, Set)\n",
    "    \n",
    "    d = prepData.process(train, test, config)\n",
    "    d = normalize(d, \"Std\")\n",
    "    d = createVal(d)\n",
    "    return d"
   ]
  },
  {
   "cell_type": "code",
   "execution_count": 4,
   "metadata": {},
   "outputs": [
    {
     "name": "stderr",
     "output_type": "stream",
     "text": [
      "/home/tbrownex/tensorflow/lib/python3.5/site-packages/sklearn/preprocessing/data.py:625: DataConversionWarning: Data with input dtype int64, float64 were all converted to float64 by StandardScaler.\n",
      "  return self.partial_fit(X, y)\n",
      "/home/tbrownex/tensorflow/lib/python3.5/site-packages/sklearn/base.py:462: DataConversionWarning: Data with input dtype int64, float64 were all converted to float64 by StandardScaler.\n",
      "  return self.fit(X, **fit_params).transform(X)\n",
      "/home/tbrownex/tensorflow/lib/python3.5/site-packages/sklearn/preprocessing/data.py:625: DataConversionWarning: Data with input dtype int64, float64 were all converted to float64 by StandardScaler.\n",
      "  return self.partial_fit(X, y)\n",
      "/home/tbrownex/tensorflow/lib/python3.5/site-packages/sklearn/base.py:462: DataConversionWarning: Data with input dtype int64, float64 were all converted to float64 by StandardScaler.\n",
      "  return self.fit(X, **fit_params).transform(X)\n"
     ]
    }
   ],
   "source": [
    "config = getConfig()\n",
    "dataDict = createDataDict(config)"
   ]
  },
  {
   "cell_type": "code",
   "execution_count": 5,
   "metadata": {},
   "outputs": [],
   "source": [
    "# No need for labels in an auto-encoder\n",
    "del dataDict[\"trainY\"]\n",
    "del dataDict[\"valY\"]\n",
    "del dataDict[\"testY\"]"
   ]
  },
  {
   "cell_type": "code",
   "execution_count": 6,
   "metadata": {},
   "outputs": [],
   "source": [
    "feature_count = dataDict[\"trainX\"].shape[1]"
   ]
  },
  {
   "cell_type": "code",
   "execution_count": 113,
   "metadata": {},
   "outputs": [],
   "source": [
    "# NN hyper-parameters\n",
    "l1_size       = 20          # Count of nodes in layer 1\n",
    "l2_size       = 6           # Count of nodes in layer 2\n",
    "l3_size       = l1_size\n",
    "output_size   = feature_count\n",
    "lr            = .0001\n",
    "LAMBDA        = 0.0          # Regularization parameter\n",
    "batch_size    = 32\n",
    "epochs        = 80\n",
    "activation    = ['ReLU']           # 'tanh' 'leakyReLU' 'ReLU' 'relu6' 'elu' 'crelu'\n",
    "STD           = [0.2]\n",
    "\n",
    "actf = tf.nn.relu\n",
    "\n",
    "# Small epsilon value for the BN transform\n",
    "epsilon = 1e-3"
   ]
  },
  {
   "cell_type": "code",
   "execution_count": 114,
   "metadata": {},
   "outputs": [],
   "source": [
    "def batch_norm_wrapper(inputs, training, decay = 0.999):\n",
    "\n",
    "    scale = tf.Variable(tf.ones([inputs.get_shape()[-1]]))\n",
    "    beta = tf.Variable(tf.zeros([inputs.get_shape()[-1]]))\n",
    "    pop_mean = tf.Variable(tf.zeros([inputs.get_shape()[-1]]), trainable=False)\n",
    "    pop_var = tf.Variable(tf.ones([inputs.get_shape()[-1]]), trainable=False)\n",
    "\n",
    "    if training:\n",
    "        batch_mean, batch_var = tf.nn.moments(inputs,[0])\n",
    "        train_mean = tf.assign(pop_mean,\n",
    "                               pop_mean * decay + batch_mean * (1 - decay))\n",
    "        train_var = tf.assign(pop_var,\n",
    "                              pop_var * decay + batch_var * (1 - decay))\n",
    "        with tf.control_dependencies([train_mean, train_var]):\n",
    "            return tf.nn.batch_normalization(inputs,\n",
    "                                             batch_mean, batch_var, beta, scale, epsilon)\n",
    "    else:\n",
    "        return tf.nn.batch_normalization(inputs,\n",
    "                                         pop_mean, pop_var, beta, scale, epsilon)"
   ]
  },
  {
   "cell_type": "code",
   "execution_count": 115,
   "metadata": {},
   "outputs": [],
   "source": [
    "# Set up the network\n",
    "tf.reset_default_graph()\n",
    "\n",
    "training = True\n",
    "\n",
    "X  = tf.placeholder(\"float\", shape=[None, feature_count], name=\"input\")\n",
    "\n",
    "l1w = tf.Variable(tf.truncated_normal([feature_count, l1_size], stddev=STD, dtype=tf.float32))\n",
    "l2w = tf.Variable(tf.truncated_normal([l1_size, l2_size], stddev=STD, dtype=tf.float32))\n",
    "l3w = tf.Variable(tf.truncated_normal([l2_size, l3_size], stddev=STD, dtype=tf.float32))\n",
    "l4w = tf.Variable(tf.truncated_normal([l3_size, feature_count], stddev=STD, dtype=tf.float32))\n",
    "\n",
    "l1b = tf.Variable(tf.zeros(l1_size))\n",
    "l2b = tf.Variable(tf.zeros(l2_size))\n",
    "l3b = tf.Variable(tf.zeros(l3_size))\n",
    "l4b = tf.Variable(tf.zeros(feature_count))\n",
    "\n",
    "# Layer 1\n",
    "l1 = tf.matmul(X,l1w)\n",
    "bn1 = batch_norm_wrapper(l1, training)\n",
    "l1_out = actf(bn1)\n",
    "\n",
    "l2_out = actf(tf.matmul(l1_out,l2w)+l2b)\n",
    "l3_out = actf(tf.matmul(l2_out,l3w)+l3b)\n",
    "output = actf(tf.matmul(l3_out,l4w)+l4b)"
   ]
  },
  {
   "cell_type": "code",
   "execution_count": 116,
   "metadata": {},
   "outputs": [],
   "source": [
    "rmse      = tf.sqrt(tf.reduce_mean(tf.square(output - X)))\n",
    "L1_layer1 = LAMBDA**tf.reduce_sum(tf.abs(l1w))\n",
    "L2_layer1 = LAMBDA*tf.nn.l2_loss(l1w)\n",
    "L1_layer3 = LAMBDA**tf.reduce_sum(tf.abs(l3w))\n",
    "L2_layer3 = LAMBDA*tf.nn.l2_loss(l3w)\n",
    "    \n",
    "cost = tf.reduce_mean(rmse + L1_layer1 + L2_layer1 + L2_layer3 + L2_layer3)\n",
    "\n",
    "optimizer = tf.train.AdamOptimizer(lr)\n",
    "train     = optimizer.minimize(cost)"
   ]
  },
  {
   "cell_type": "code",
   "execution_count": 117,
   "metadata": {},
   "outputs": [],
   "source": [
    "init=tf.global_variables_initializer()"
   ]
  },
  {
   "cell_type": "code",
   "execution_count": 118,
   "metadata": {},
   "outputs": [
    {
     "name": "stdout",
     "output_type": "stream",
     "text": [
      "515 training batches of size 32\n"
     ]
    }
   ],
   "source": [
    "num_training_batches = int(dataDict[\"trainX\"].shape[0] / batch_size)\n",
    "print(\"{} training batches of size {}\".format(num_training_batches, batch_size))"
   ]
  },
  {
   "cell_type": "code",
   "execution_count": 121,
   "metadata": {},
   "outputs": [
    {
     "name": "stdout",
     "output_type": "stream",
     "text": [
      "Epoch   Validation Loss\n",
      "0       0.847\n",
      "5       0.758\n",
      "10      0.752\n",
      "15      0.748\n",
      "20      0.746\n",
      "25      0.744\n",
      "30      0.743\n",
      "35      0.742\n",
      "40      0.741\n",
      "45      0.741\n",
      "50      0.740\n",
      "55      0.740\n",
      "60      0.740\n",
      "65      0.740\n",
      "70      0.739\n",
      "75      0.739\n",
      "\n",
      "\n",
      "Training0.745\n"
     ]
    }
   ],
   "source": [
    "with tf.Session() as sess:\n",
    "    print(\"Epoch   Validation Loss\")\n",
    "    sess.run(init)\n",
    "    \n",
    "    for i in range(epochs):\n",
    "        data = shuffle(dataDict[\"trainX\"])\n",
    "        for j in range(num_training_batches):\n",
    "            x_mini = data[j*batch_size:j*batch_size+batch_size]\n",
    "            _ = sess.run(train, feed_dict = {X: x_mini})\n",
    "        if i % 5 == 0:\n",
    "            valLoss = sess.run(rmse, feed_dict={X:dataDict[\"valX\"]})\n",
    "            print(\"{:<8}{:.3f}\".format(i, valLoss))\n",
    "    print(\"\\n\")\n",
    "    training = False\n",
    "    final, recreated = sess.run([rmse, output], feed_dict = {X: dataDict[\"trainX\"]})\n",
    "    print(\"{:<8}{:.3f}\".format(\"Training\", final))"
   ]
  },
  {
   "cell_type": "code",
   "execution_count": 131,
   "metadata": {},
   "outputs": [],
   "source": [
    "diff = recreated - np.array(dataDict[\"trainX\"])"
   ]
  },
  {
   "cell_type": "code",
   "execution_count": 135,
   "metadata": {},
   "outputs": [
    {
     "name": "stdout",
     "output_type": "stream",
     "text": [
      "518 [-0.39477942  1.00176907  1.71418605  0.          0.         -0.12084343\n",
      " -1.82137982 -2.3761444   1.         -0.0571694   2.53958349  0.08955512\n",
      "  1.36819444  0.         -0.26638141  3.35369615 -2.69542865  1.84699366\n",
      " -2.25186987  1.          0.41870537  0.          0.          3.52032452\n",
      "  1.71000786]\n"
     ]
    }
   ],
   "source": [
    "count = 0\n",
    "for x in range(diff.shape[0]):\n",
    "    if sum(diff[x]>3.0) > 1:\n",
    "        print(x, diff[x])\n",
    "        break"
   ]
  },
  {
   "cell_type": "code",
   "execution_count": 129,
   "metadata": {},
   "outputs": [
    {
     "data": {
      "text/plain": [
       "cycle       1.454604\n",
       "setting1    1.421353\n",
       "setting2   -1.031720\n",
       "setting3    0.000000\n",
       "sensor1     0.000000\n",
       "sensor2     2.257947\n",
       "sensor3     2.256872\n",
       "sensor4     2.186153\n",
       "sensor5    -1.000000\n",
       "sensor6     0.141683\n",
       "sensor7    -0.991685\n",
       "sensor8     0.328925\n",
       "sensor9     6.770887\n",
       "sensor10    0.000000\n",
       "sensor11    1.530741\n",
       "sensor12   -0.858901\n",
       "sensor13   -0.641744\n",
       "sensor14    6.579952\n",
       "sensor15    2.041226\n",
       "sensor16   -1.000000\n",
       "sensor17    1.801059\n",
       "sensor18    0.000000\n",
       "sensor19    0.000000\n",
       "sensor20   -0.864606\n",
       "sensor21   -1.552038\n",
       "Name: 88, dtype: float64"
      ]
     },
     "execution_count": 129,
     "metadata": {},
     "output_type": "execute_result"
    }
   ],
   "source": [
    "dataDict[\"trainX\"].iloc[88]"
   ]
  },
  {
   "cell_type": "code",
   "execution_count": 130,
   "metadata": {},
   "outputs": [
    {
     "data": {
      "text/plain": [
       "array([1.2634387 , 1.3494875 , 0.        , 0.        , 0.        ,\n",
       "       2.3363774 , 0.        , 0.        , 0.        , 0.03474347,\n",
       "       0.        , 0.11549889, 7.042727  , 0.        , 1.6253316 ,\n",
       "       0.        , 0.        , 6.987648  , 0.        , 0.        ,\n",
       "       1.9067181 , 0.        , 0.        , 0.        , 0.        ],\n",
       "      dtype=float32)"
      ]
     },
     "execution_count": 130,
     "metadata": {},
     "output_type": "execute_result"
    }
   ],
   "source": [
    "recreated[88]"
   ]
  },
  {
   "cell_type": "code",
   "execution_count": 13,
   "metadata": {},
   "outputs": [
    {
     "data": {
      "image/png": "[encoded data removed]",
      "text/plain": [
       "<Figure size 1440x288 with 20 Axes>"
      ]
     },
     "metadata": {},
     "output_type": "display_data"
    }
   ],
   "source": [
    "# Compare Test images to reconstructed, for 10 random images\n",
    "idx = np.random.randint(low=0, high=len(testX), size=10)\n",
    "f,a=plt.subplots(2,10,figsize=(20,4))\n",
    "\n",
    "for count, row in enumerate(idx):\n",
    "    a[0][count].imshow(np.reshape(testX[row],(28,28)))\n",
    "    a[1][count].imshow(np.reshape(recreated[row],(28,28)))"
   ]
  }
 ],
 "metadata": {
  "kernelspec": {
   "display_name": "Python 3",
   "language": "python",
   "name": "python3"
  },
  "language_info": {
   "codemirror_mode": {
    "name": "ipython",
    "version": 3
   },
   "file_extension": ".py",
   "mimetype": "text/x-python",
   "name": "python",
   "nbconvert_exporter": "python",
   "pygments_lexer": "ipython3",
   "version": "3.5.2"
  }
 },
 "nbformat": 4,
 "nbformat_minor": 2
}
