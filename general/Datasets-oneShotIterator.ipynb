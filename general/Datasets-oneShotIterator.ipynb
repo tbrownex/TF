{
 "cells": [
  {
   "cell_type": "markdown",
   "metadata": {},
   "source": [
    "##### This shows the use of Training and Validation datasets"
   ]
  },
  {
   "cell_type": "code",
   "execution_count": 2,
   "metadata": {},
   "outputs": [],
   "source": [
    "import tensorflow as tf\n",
    "\n",
    "fileName = \"/home/tbrownex/data/bostonHousing.csv\""
   ]
  },
  {
   "cell_type": "code",
   "execution_count": 3,
   "metadata": {},
   "outputs": [],
   "source": [
    "def getData():\n",
    "    return pd.read_csv(fileName, header=None, sep=\" \")"
   ]
  },
  {
   "cell_type": "code",
   "execution_count": 4,
   "metadata": {},
   "outputs": [],
   "source": [
    "def formatData(df):\n",
    "    ''' valInd splits the data into training (valInd=0) and validation (valInd=1)'''\n",
    "    labels = df.iloc[:,-1]\n",
    "    features = np.array(df.iloc[:,:-1])    \n",
    "    valInd = [np.random.choice([0,1], p=[0.8, 0.2]) for x in range(len(labels))]\n",
    "    return features, labels, valInd"
   ]
  },
  {
   "cell_type": "code",
   "execution_count": 6,
   "metadata": {},
   "outputs": [],
   "source": [
    "class trainDS():\n",
    "    def __init__(self, ds):\n",
    "        ds = ds.filter(self.filter)\n",
    "        iter = ds.make_one_shot_iterator()\n",
    "        self.batch, self.labels, _ = iter.get_next()\n",
    "        \n",
    "    def filter(self, X,Y,valInd):\n",
    "        return tf.math.equal(valInd, 0)"
   ]
  },
  {
   "cell_type": "code",
   "execution_count": 11,
   "metadata": {},
   "outputs": [],
   "source": [
    "class valDS():\n",
    "    def __init__(self, ds):\n",
    "        ds = ds.filter(self.filter)\n",
    "        iter = ds.make_one_shot_iterator()\n",
    "        self.batch, self.labels, _ = iter.get_next()\n",
    "        \n",
    "    def filter(self, X,Y,valInd):\n",
    "        return tf.math.equal(valInd, 1)"
   ]
  },
  {
   "cell_type": "code",
   "execution_count": 7,
   "metadata": {},
   "outputs": [],
   "source": [
    "df = getData()\n",
    "features, labels, valInd = formatData(df)"
   ]
  },
  {
   "cell_type": "code",
   "execution_count": 12,
   "metadata": {},
   "outputs": [],
   "source": [
    "ds = tf.data.Dataset.from_tensor_slices((features, labels, valInd))\n",
    "train = trainDS(ds)\n",
    "val = valDS(ds)"
   ]
  },
  {
   "cell_type": "code",
   "execution_count": 13,
   "metadata": {},
   "outputs": [
    {
     "name": "stdout",
     "output_type": "stream",
     "text": [
      "number of training records:  405\n"
     ]
    }
   ],
   "source": [
    "trainCount = 0\n",
    "with tf.Session() as sess:\n",
    "    sess.run(tf.global_variables_initializer())\n",
    "    try:\n",
    "        while True:\n",
    "            sess.run([train.batch, train.labels])\n",
    "            trainCount +=1\n",
    "    except tf.errors.OutOfRangeError:\n",
    "        pass\n",
    "print(\"number of training records: \", trainCount)"
   ]
  },
  {
   "cell_type": "code",
   "execution_count": 15,
   "metadata": {},
   "outputs": [
    {
     "name": "stdout",
     "output_type": "stream",
     "text": [
      "number of training records:  101\n"
     ]
    }
   ],
   "source": [
    "valCount = 0\n",
    "with tf.Session() as sess:\n",
    "    sess.run(tf.global_variables_initializer())\n",
    "    try:\n",
    "        while True:\n",
    "            sess.run([val.batch, val.labels])\n",
    "            valCount +=1\n",
    "    except tf.errors.OutOfRangeError:\n",
    "        pass\n",
    "print(\"number of training records: \", valCount)"
   ]
  }
 ],
 "metadata": {
  "kernelspec": {
   "display_name": "Python 3",
   "language": "python",
   "name": "python3"
  },
  "language_info": {
   "codemirror_mode": {
    "name": "ipython",
    "version": 3
   },
   "file_extension": ".py",
   "mimetype": "text/x-python",
   "name": "python",
   "nbconvert_exporter": "python",
   "pygments_lexer": "ipython3",
   "version": "3.5.2"
  }
 },
 "nbformat": 4,
 "nbformat_minor": 2
}
