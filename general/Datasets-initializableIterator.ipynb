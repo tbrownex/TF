{
 "cells": [
  {
   "cell_type": "markdown",
   "metadata": {},
   "source": [
    "##### This shows the use of Training and Validation datasets"
   ]
  },
  {
   "cell_type": "code",
   "execution_count": 14,
   "metadata": {},
   "outputs": [],
   "source": [
    "import tensorflow as tf\n",
    "from sklearn.model_selection import train_test_split"
   ]
  },
  {
   "cell_type": "code",
   "execution_count": 34,
   "metadata": {},
   "outputs": [
    {
     "data": {
      "text/plain": [
       "True"
      ]
     },
     "execution_count": 34,
     "metadata": {},
     "output_type": "execute_result"
    }
   ],
   "source": [
    "data = range(52)\n",
    "train = [x for x in data if x%2!=0]\n",
    "test = [x for x in data if x%2==0]\n",
    "len(train) == len(test)"
   ]
  },
  {
   "cell_type": "code",
   "execution_count": 41,
   "metadata": {},
   "outputs": [],
   "source": [
    "batchSize=5\n",
    "trainDS = tf.data.Dataset.from_tensor_slices(train)\n",
    "trainDS = trainDS.shuffle(buffer_size=len(train)).batch(batchSize)\n",
    "testDS = tf.data.Dataset.from_tensor_slices(test)\n",
    "testDS = testDS.batch(batchSize)"
   ]
  },
  {
   "cell_type": "code",
   "execution_count": 42,
   "metadata": {},
   "outputs": [],
   "source": [
    "iter = tf.data.Iterator.from_structure(trainDS.output_types, tf.compat.v1.data.get_output_shapes(trainDS))\n",
    "batch = iter.get_next()"
   ]
  },
  {
   "cell_type": "code",
   "execution_count": 43,
   "metadata": {},
   "outputs": [],
   "source": [
    "trainInit = iter.make_initializer(trainDS)\n",
    "testInit = iter.make_initializer(testDS)"
   ]
  },
  {
   "cell_type": "code",
   "execution_count": 44,
   "metadata": {},
   "outputs": [
    {
     "name": "stdout",
     "output_type": "stream",
     "text": [
      "Training:    5 batches of size 5\n",
      "Validation: 5 batches of size 5\n"
     ]
    }
   ],
   "source": [
    "trainBatches = int(len(train)/batchSize)\n",
    "print(\"Training:    {} batches of size {}\".format(trainBatches, batchSize))\n",
    "testBatches = int(len(test)/batchSize)\n",
    "print(\"Validation: {} batches of size {}\".format(testBatches, batchSize))"
   ]
  },
  {
   "cell_type": "code",
   "execution_count": 45,
   "metadata": {},
   "outputs": [
    {
     "name": "stdout",
     "output_type": "stream",
     "text": [
      "[41  9 51  3  1]\n",
      "[11 19 23 25 21]\n",
      "[43  7 29 15 39]\n",
      "[45 17 13 49 31]\n",
      "[47 27 33 37 35]\n",
      "---\n",
      "[0 2 4 6 8]\n",
      "[10 12 14 16 18]\n",
      "[20 22 24 26 28]\n",
      "[30 32 34 36 38]\n",
      "[40 42 44 46 48]\n",
      "[13  1 47 23 37]\n",
      "[51  9 33 43 21]\n",
      "[31 39 49  3 25]\n",
      "[11 17 45 15  5]\n",
      "[41 19 29  7 35]\n",
      "---\n",
      "[0 2 4 6 8]\n",
      "[10 12 14 16 18]\n",
      "[20 22 24 26 28]\n",
      "[30 32 34 36 38]\n",
      "[40 42 44 46 48]\n"
     ]
    }
   ],
   "source": [
    "epochs = 2\n",
    "with tf.Session() as sess:\n",
    "    for e in range(epochs):\n",
    "        sess.run(trainInit)\n",
    "        for _ in range(trainBatches):\n",
    "            b = sess.run(batch)\n",
    "            print(b)\n",
    "        print(\"---\")\n",
    "        sess.run(testInit)\n",
    "        for _ in range(testBatches):\n",
    "            print(sess.run(batch))"
   ]
  }
 ],
 "metadata": {
  "kernelspec": {
   "display_name": "Python 3",
   "language": "python",
   "name": "python3"
  },
  "language_info": {
   "codemirror_mode": {
    "name": "ipython",
    "version": 3
   },
   "file_extension": ".py",
   "mimetype": "text/x-python",
   "name": "python",
   "nbconvert_exporter": "python",
   "pygments_lexer": "ipython3",
   "version": "3.5.2"
  }
 },
 "nbformat": 4,
 "nbformat_minor": 2
}
