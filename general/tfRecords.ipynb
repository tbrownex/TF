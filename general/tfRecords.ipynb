{
 "cells": [
  {
   "cell_type": "markdown",
   "metadata": {},
   "source": [
    "##### How to convert a large CSV to tfRecord format"
   ]
  },
  {
   "cell_type": "code",
   "execution_count": 1,
   "metadata": {},
   "outputs": [],
   "source": [
    "import tensorflow as tf\n",
    "import numpy as np"
   ]
  },
  {
   "cell_type": "code",
   "execution_count": 2,
   "metadata": {},
   "outputs": [],
   "source": [
    "inp = '/home/tbrownex/data/LSTM/jena_climate.csv'\n",
    "out = '/home/tbrownex/data/LSTM/jena_climate.tfrecord'"
   ]
  },
  {
   "cell_type": "code",
   "execution_count": 3,
   "metadata": {},
   "outputs": [],
   "source": [
    "df=pd.read_csv(inp)\n",
    "\n",
    "# Build a dictionary specifying column type. Only 1 string so set them all to float then fix the string\n",
    "featureDict={}\n",
    "for col in df.columns:\n",
    "    featureDict[col]=tf.float32\n",
    "\n",
    "featureDict['Date Time'] = tf.string"
   ]
  },
  {
   "cell_type": "code",
   "execution_count": 4,
   "metadata": {},
   "outputs": [],
   "source": [
    "def parseRow(row):\n",
    "    d={}\n",
    "    d['Date Time'] = row[0]\n",
    "    d['p (mbar)'] = row[1]\n",
    "    d['T (degC)'] = row[2]\n",
    "    d['Tpot (K)'] = row[3]\n",
    "    d['Tdew (degC)'] = row[4]\n",
    "    d['rh (%)'] = row[5]\n",
    "    d['VPmax (mbar)'] = row[6]\n",
    "    d['VPact (mbar)'] = row[7]\n",
    "    d['VPdef (mbar)'] = row[8]\n",
    "    d['sh (g/kg)'] = row[9]\n",
    "    d['H2OC (mmol/mol)'] = row[10]\n",
    "    d['rho (g/m**3)'] = row[11]\n",
    "    d['wv (m/s)'] = row[12]\n",
    "    d['max. wv (m/s)'] = row[13]\n",
    "    d['wd (deg)'] = row[14]\n",
    "    return d"
   ]
  },
  {
   "cell_type": "code",
   "execution_count": 5,
   "metadata": {},
   "outputs": [],
   "source": [
    "def gen():\n",
    "    with open(inp) as f:\n",
    "        next(f)\n",
    "        for row in f:\n",
    "            parsed = row.split(',')\n",
    "            yield parseRow(parsed)"
   ]
  },
  {
   "cell_type": "code",
   "execution_count": 6,
   "metadata": {},
   "outputs": [],
   "source": [
    "serialized_features_dataset = tf.data.Dataset.from_generator(gen,\n",
    "                                                             output_types=featureDict)"
   ]
  },
  {
   "cell_type": "code",
   "execution_count": 7,
   "metadata": {},
   "outputs": [],
   "source": [
    "def _float_feature(value):\n",
    "    # Returns a float_list from a float / double\n",
    "    return tf.train.Feature(float_list=tf.train.FloatList(value=[value]))\n",
    "def _bytes_feature(value):\n",
    "    \"\"\"Returns a bytes_list from a string / byte.\"\"\"\n",
    "    if isinstance(value, type(tf.constant(0))):\n",
    "        value = value.numpy() # BytesList won't unpack a string from an EagerTensor.\n",
    "        return tf.train.Feature(bytes_list=tf.train.BytesList(value=[value]))"
   ]
  },
  {
   "cell_type": "code",
   "execution_count": 9,
   "metadata": {},
   "outputs": [],
   "source": [
    "with tf.io.TFRecordWriter(out) as writer:\n",
    "    for row in serialized_features_dataset:\n",
    "        d={}\n",
    "        for key in row.keys():\n",
    "            if row[key].dtype == 'string':\n",
    "                d[key] = _bytes_feature(row[key])\n",
    "            else:\n",
    "                d[key] = _float_feature(row[key])\n",
    "        example_proto = tf.train.Example(features=tf.train.Features(feature=d))\n",
    "        writer.write(example_proto.SerializeToString())"
   ]
  },
  {
   "cell_type": "markdown",
   "metadata": {},
   "source": [
    "##### Read it back in"
   ]
  },
  {
   "cell_type": "code",
   "execution_count": 9,
   "metadata": {},
   "outputs": [],
   "source": [
    "raw_dataset = tf.data.TFRecordDataset(out)"
   ]
  },
  {
   "cell_type": "code",
   "execution_count": 10,
   "metadata": {},
   "outputs": [],
   "source": [
    "def _parse_function(example_proto):\n",
    "    # Parse the input `tf.train.Example` proto using the dictionary above.\n",
    "    return tf.io.parse_single_example(example_proto, feature_description)"
   ]
  },
  {
   "cell_type": "code",
   "execution_count": 6,
   "metadata": {},
   "outputs": [],
   "source": [
    "def printDS(parsed_dataset):\n",
    "    for n in parsed_dataset.take(10):\n",
    "        print(n)"
   ]
  },
  {
   "cell_type": "code",
   "execution_count": 11,
   "metadata": {},
   "outputs": [],
   "source": [
    "# featureDict has the name of the columns\n",
    "# Set all columns to floats, then change the one that isn't (Date Time is a string)\n",
    "feature_description={}\n",
    "for key in featureDict.keys():\n",
    "    feature_description[key] = tf.io.FixedLenFeature([], tf.float32, default_value=0)\n",
    "feature_description['Date Time'] = tf.io.FixedLenFeature([], tf.string, default_value=' ')"
   ]
  },
  {
   "cell_type": "code",
   "execution_count": 12,
   "metadata": {},
   "outputs": [],
   "source": [
    "parsed_dataset = raw_dataset.map(_parse_function)\n",
    "#printDS(parsed_dataset)"
   ]
  }
 ],
 "metadata": {
  "kernelspec": {
   "display_name": "Python 3",
   "language": "python",
   "name": "python3"
  },
  "language_info": {
   "codemirror_mode": {
    "name": "ipython",
    "version": 3
   },
   "file_extension": ".py",
   "mimetype": "text/x-python",
   "name": "python",
   "nbconvert_exporter": "python",
   "pygments_lexer": "ipython3",
   "version": "3.6.12"
  }
 },
 "nbformat": 4,
 "nbformat_minor": 4
}
